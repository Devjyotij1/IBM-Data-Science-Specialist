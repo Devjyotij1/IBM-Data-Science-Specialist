{
 "cells": [
  {
   "cell_type": "markdown",
   "id": "93dac416-88a6-44c7-b626-f5906c8dc2c6",
   "metadata": {},
   "source": [
    "### RegEx"
   ]
  },
  {
   "cell_type": "markdown",
   "id": "e4f71b68-6ea1-4e2a-b703-a97565b979b1",
   "metadata": {},
   "source": [
    "Q1 : Search a pattern in <code>\"The BodyGuard is the best album\"</code>"
   ]
  },
  {
   "cell_type": "code",
   "execution_count": 1,
   "id": "48d7c421-5e85-4164-b650-1fe53eda2063",
   "metadata": {},
   "outputs": [],
   "source": [
    "import re"
   ]
  },
  {
   "cell_type": "code",
   "execution_count": 6,
   "id": "60b17221-42f1-44fe-96c4-08bc8f360dd9",
   "metadata": {},
   "outputs": [
    {
     "name": "stdout",
     "output_type": "stream",
     "text": [
      "Not Found\n"
     ]
    }
   ],
   "source": [
    "st = \"The BodyGuard is the best album\"\n",
    "pattern = \"The\\sBo\\d\\D\\D\"\n",
    "\n",
    "result = re.search(pattern, st)\n",
    "\n",
    "if result :\n",
    "    print(\"Found\")\n",
    "else :\n",
    "    print(\"Not Found\")"
   ]
  },
  {
   "cell_type": "markdown",
   "id": "7d721d5b-72c5-4d28-892a-e5e1a82e4c95",
   "metadata": {},
   "source": [
    "### Quiz on Strings"
   ]
  },
  {
   "cell_type": "markdown",
   "id": "515daff1-39c8-4661-a9d8-caf8aa2f1590",
   "metadata": {},
   "source": [
    "##### Q1 : What is the value of the variable <code><b>a</b></code> after the following code is executed?"
   ]
  },
  {
   "cell_type": "code",
   "execution_count": 9,
   "id": "4597be10-2eeb-4215-a9a9-b5df3177205d",
   "metadata": {},
   "outputs": [
    {
     "name": "stdout",
     "output_type": "stream",
     "text": [
      "Value : 1, Type : <class 'str'>\n"
     ]
    }
   ],
   "source": [
    "# Write your code below and press Shift+Enter to execute \n",
    "\n",
    "a = \"1\"\n",
    "\n",
    "print(f\"Value : {a}, Type : {type(a)}\")"
   ]
  },
  {
   "cell_type": "markdown",
   "id": "afe9a0a3-7954-49f9-91b8-714581574e67",
   "metadata": {},
   "source": [
    "##### Q2 : What is the value of the variable <code><b>b</b></code> after the following code is executed?"
   ]
  },
  {
   "cell_type": "code",
   "execution_count": 10,
   "id": "8919f933-d38b-48c4-a539-10fcbb342b53",
   "metadata": {},
   "outputs": [
    {
     "name": "stdout",
     "output_type": "stream",
     "text": [
      "Value : 2, Type : <class 'str'>\n"
     ]
    }
   ],
   "source": [
    "# Write your code below and press Shift+Enter to execute\n",
    "\n",
    "b = \"2\"\n",
    "\n",
    "print(f\"Value : {b}, Type : {type(b)}\")"
   ]
  },
  {
   "cell_type": "markdown",
   "id": "0fadafc2-19b5-47f3-ab6c-3238955144ae",
   "metadata": {},
   "source": [
    "##### Q3 : What is the value of the variable <code><b>c</b></code> after the following code is executed?"
   ]
  },
  {
   "cell_type": "code",
   "execution_count": 11,
   "id": "4fa76109-787e-47ac-a069-2fac7748fd7e",
   "metadata": {},
   "outputs": [
    {
     "name": "stdout",
     "output_type": "stream",
     "text": [
      "Value : 12, Type : <class 'str'>\n"
     ]
    }
   ],
   "source": [
    "# Write your code below and press Shift+Enter to execute \n",
    "\n",
    "c = a + b\n",
    "\n",
    "print(f\"Value : {c}, Type : {type(c)}\")"
   ]
  },
  {
   "cell_type": "markdown",
   "id": "e022c663-d7ce-4696-b5b6-8ea1bb0d3af2",
   "metadata": {},
   "source": [
    "_________________________________"
   ]
  },
  {
   "cell_type": "markdown",
   "id": "78abd42d-ce47-4e52-869f-45cfd27e82e6",
   "metadata": {},
   "source": [
    "##### Q4 : Consider the variable <code><b>d</b></code> use slicing to print out the first three elements:"
   ]
  },
  {
   "cell_type": "markdown",
   "id": "5719bc95-3c6b-413d-ae06-cfe6796b0f33",
   "metadata": {},
   "source": [
    "# Write your code below and press Shift+Enter to execute\n",
    "\n",
    "d = \"ABCDEFG\"\n",
    "print(d[0:3])"
   ]
  },
  {
   "cell_type": "markdown",
   "id": "cf4ef92a-4949-4b7a-af19-3c8568788119",
   "metadata": {},
   "source": [
    "________________________"
   ]
  },
  {
   "cell_type": "markdown",
   "id": "e965643c-aaa6-4046-8e75-3b88ccf6674f",
   "metadata": {},
   "source": [
    "##### Q5 : Use a stride value of 2 to print out every second character of the string <code><b>e</b></code>:"
   ]
  },
  {
   "cell_type": "code",
   "execution_count": 14,
   "id": "39163034-a1e2-4d59-8e07-b72ee07c86a8",
   "metadata": {},
   "outputs": [
    {
     "name": "stdout",
     "output_type": "stream",
     "text": [
      "correct\n"
     ]
    }
   ],
   "source": [
    "# Write your code below and press Shift+Enter to execute\n",
    "\n",
    "e = 'clocrkr1e1c1t'\n",
    "\n",
    "print(e[::2])"
   ]
  },
  {
   "cell_type": "markdown",
   "id": "0cc84642-9ebb-4ccc-977e-80b9cc1da68c",
   "metadata": {},
   "source": [
    "_____________"
   ]
  },
  {
   "cell_type": "markdown",
   "id": "8705f10f-9372-4a73-bec4-0f0b00ea7ebc",
   "metadata": {},
   "source": [
    "##### Q6 : Print out a backslash:"
   ]
  },
  {
   "cell_type": "code",
   "execution_count": 21,
   "id": "808ac0d7-5e91-49d0-8b3d-78db4239ae5a",
   "metadata": {},
   "outputs": [
    {
     "name": "stdout",
     "output_type": "stream",
     "text": [
      "\\\n"
     ]
    }
   ],
   "source": [
    "# Write your code below and press Shift+Enter to execute\n",
    "print(\"\\\\\")"
   ]
  },
  {
   "cell_type": "markdown",
   "id": "b277491a-8926-4894-b5c3-5a69b781d20e",
   "metadata": {},
   "source": [
    "____________________________"
   ]
  },
  {
   "cell_type": "markdown",
   "id": "190219ab-c909-4b33-810b-62e7ab4b6e2d",
   "metadata": {},
   "source": [
    "##### Q7 : Convert the variable <code><b>f</b></code> to uppercase:"
   ]
  },
  {
   "cell_type": "code",
   "execution_count": 22,
   "id": "a8f00acb-30d5-44d2-ad5e-44c39338245d",
   "metadata": {},
   "outputs": [
    {
     "name": "stdout",
     "output_type": "stream",
     "text": [
      "YOU ARE WRONG\n"
     ]
    }
   ],
   "source": [
    "f = \"You are wrong\"\n",
    "print(f.upper())"
   ]
  },
  {
   "cell_type": "markdown",
   "id": "e38fc556-2b32-4427-89d4-13da2e92c7df",
   "metadata": {},
   "source": [
    "_________"
   ]
  },
  {
   "cell_type": "markdown",
   "id": "6c575e23-2b00-48a4-805b-7501cd54ef82",
   "metadata": {},
   "source": [
    "##### Q8 : Convert the variable <code><b>f1</b></code> to lowercase:"
   ]
  },
  {
   "cell_type": "code",
   "execution_count": 23,
   "id": "5469a944-8e90-450a-8f03-c4c95422cff2",
   "metadata": {},
   "outputs": [
    {
     "name": "stdout",
     "output_type": "stream",
     "text": [
      "you are right\n"
     ]
    }
   ],
   "source": [
    "f1=\"YOU ARE RIGHT\"\n",
    "print(f1.lower())"
   ]
  },
  {
   "cell_type": "markdown",
   "id": "212d3a63-26ba-4e35-99fe-f6670c9a97a6",
   "metadata": {},
   "source": [
    "_______________"
   ]
  },
  {
   "cell_type": "markdown",
   "id": "d7d9500c-a3e3-437e-b2ea-f38f9bda18b2",
   "metadata": {},
   "source": [
    "##### Q9 : Consider the variable <code><b>g</b></code>, and find the first index of the sub-string <code><b>snow</b></code>:"
   ]
  },
  {
   "cell_type": "code",
   "execution_count": 24,
   "id": "a721a7df-2ea4-4ab2-bbc8-f55c9f4b4eef",
   "metadata": {},
   "outputs": [
    {
     "data": {
      "text/plain": [
       "95"
      ]
     },
     "execution_count": 24,
     "metadata": {},
     "output_type": "execute_result"
    }
   ],
   "source": [
    "g = \"Mary had a little lamb Little lamb, little lamb Mary had a little lamb \\\n",
    "Its fleece was white as snow And everywhere that Mary went Mary went, Mary went \\\n",
    "Everywhere that Mary went The lamb was sure to go\"\n",
    "\n",
    "ss = \"snow\"\n",
    "\n",
    "ind = g.find(ss)\n",
    "ind\n"
   ]
  },
  {
   "cell_type": "markdown",
   "id": "b86f94af-f205-45f2-857d-6d86668c31e4",
   "metadata": {},
   "source": [
    "##### Q10 : In the variable <code>g</code>, replace the sub-string <code>Mary</code> with <code>Bob</code>:"
   ]
  },
  {
   "cell_type": "code",
   "execution_count": 25,
   "id": "3c2feb0a-16d8-4066-b43d-cb4ff0533c5e",
   "metadata": {},
   "outputs": [
    {
     "data": {
      "text/plain": [
       "'Bob had a little lamb Little lamb, little lamb Bob had a little lamb Its fleece was white as snow And everywhere that Bob went Bob went, Bob went Everywhere that Bob went The lamb was sure to go'"
      ]
     },
     "execution_count": 25,
     "metadata": {},
     "output_type": "execute_result"
    }
   ],
   "source": [
    "g.replace(\"Mary\",\"Bob\")"
   ]
  },
  {
   "cell_type": "markdown",
   "id": "88baf0b8-a345-419a-baaf-5dd3d7390d94",
   "metadata": {},
   "source": [
    "##### Q11 : In the variable <code>g</code>, replace the sub-string <code>,</code> with <code>.</code>:"
   ]
  },
  {
   "cell_type": "code",
   "execution_count": 26,
   "id": "7e05d9b8-e617-4137-a1b7-cdb8b4e5e247",
   "metadata": {},
   "outputs": [
    {
     "data": {
      "text/plain": [
       "'Mary had a little lamb Little lamb. little lamb Mary had a little lamb Its fleece was white as snow And everywhere that Mary went Mary went. Mary went Everywhere that Mary went The lamb was sure to go'"
      ]
     },
     "execution_count": 26,
     "metadata": {},
     "output_type": "execute_result"
    }
   ],
   "source": [
    "g.replace(\",\",\".\")"
   ]
  },
  {
   "cell_type": "markdown",
   "id": "4f0479f4-96a6-47a6-8bd4-1a9267b4f5a3",
   "metadata": {},
   "source": [
    "##### Q12 : In the variable <code>g</code>, split the substring to list:"
   ]
  },
  {
   "cell_type": "code",
   "execution_count": 27,
   "id": "6e85b7fe-0ca7-41ce-b1f4-87ce8ef9e68b",
   "metadata": {},
   "outputs": [
    {
     "data": {
      "text/plain": [
       "['Mary',\n",
       " 'had',\n",
       " 'a',\n",
       " 'little',\n",
       " 'lamb',\n",
       " 'Little',\n",
       " 'lamb,',\n",
       " 'little',\n",
       " 'lamb',\n",
       " 'Mary',\n",
       " 'had',\n",
       " 'a',\n",
       " 'little',\n",
       " 'lamb',\n",
       " 'Its',\n",
       " 'fleece',\n",
       " 'was',\n",
       " 'white',\n",
       " 'as',\n",
       " 'snow',\n",
       " 'And',\n",
       " 'everywhere',\n",
       " 'that',\n",
       " 'Mary',\n",
       " 'went',\n",
       " 'Mary',\n",
       " 'went,',\n",
       " 'Mary',\n",
       " 'went',\n",
       " 'Everywhere',\n",
       " 'that',\n",
       " 'Mary',\n",
       " 'went',\n",
       " 'The',\n",
       " 'lamb',\n",
       " 'was',\n",
       " 'sure',\n",
       " 'to',\n",
       " 'go']"
      ]
     },
     "execution_count": 27,
     "metadata": {},
     "output_type": "execute_result"
    }
   ],
   "source": [
    "g.split()"
   ]
  },
  {
   "cell_type": "markdown",
   "id": "4c9464c7-72f4-4ac1-ba11-a11bbfaf075a",
   "metadata": {},
   "source": [
    "______________"
   ]
  },
  {
   "cell_type": "markdown",
   "id": "79f19a64-0486-40f8-95fb-888c69bef4eb",
   "metadata": {},
   "source": [
    "##### Q13 : In the string <code>s3</code>, find whether the digit is present or not using the <code>\\d</code> and <code>search()</code> function:"
   ]
  },
  {
   "cell_type": "code",
   "execution_count": 34,
   "id": "31d2c9fc-4131-4a98-8a21-3fca8d71d192",
   "metadata": {},
   "outputs": [
    {
     "name": "stdout",
     "output_type": "stream",
     "text": [
      "Digit found\n"
     ]
    }
   ],
   "source": [
    "import re\n",
    "s3 = \"House number- 1105\"\n",
    "\n",
    "result = re.search(r\"\\d\", s3)\n",
    "\n",
    "# Check if a match was found\n",
    "if result:\n",
    "    print(\"Digit found\")\n",
    "else:\n",
    "    print(\"Digit not found.\")"
   ]
  },
  {
   "cell_type": "markdown",
   "id": "24f829b1-9364-497e-924b-d25d57b0e822",
   "metadata": {},
   "source": [
    "------------------------------"
   ]
  },
  {
   "cell_type": "markdown",
   "id": "eafa0037-dc15-436f-b0b5-8d3dc9d6fe25",
   "metadata": {},
   "source": [
    "##### Q14 : In the string <code>str1</code>, replace the sub-string <code>fox</code> with <code>bear</code> using sub() function:"
   ]
  },
  {
   "cell_type": "code",
   "execution_count": 36,
   "id": "36131dd8-ca99-4db5-8532-fbc259aa0ca1",
   "metadata": {},
   "outputs": [
    {
     "data": {
      "text/plain": [
       "'The quick brown bear jumps over the lazy dog.'"
      ]
     },
     "execution_count": 36,
     "metadata": {},
     "output_type": "execute_result"
    }
   ],
   "source": [
    "str1= \"The quick brown fox jumps over the lazy dog.\"\n",
    "\n",
    "str2 = re.sub(r\"fox\",\"bear\",str1)\n",
    "str2"
   ]
  },
  {
   "cell_type": "markdown",
   "id": "a9ea787a-4747-47f7-944b-d524b611a31f",
   "metadata": {},
   "source": [
    "--------------------"
   ]
  },
  {
   "cell_type": "markdown",
   "id": "f3de2f64-9105-4cd2-ac6b-bf8a4a834638",
   "metadata": {},
   "source": [
    "##### Q15 : In the string <code>str2</code> find all the occurrences of <code>woo</code> using <code>findall()</code> function:"
   ]
  },
  {
   "cell_type": "code",
   "execution_count": 38,
   "id": "dc43c35a-c9b9-4831-b8c5-9ff7253e5aa4",
   "metadata": {},
   "outputs": [
    {
     "name": "stdout",
     "output_type": "stream",
     "text": [
      "['woo', 'woo', 'woo', 'woo']\n"
     ]
    }
   ],
   "source": [
    "str2= \"How much wood would a woodchuck chuck, if a woodchuck could chuck wood?\"\n",
    "\n",
    "results = re.findall(r\"woo\",str2)\n",
    "print(results)"
   ]
  }
 ],
 "metadata": {
  "kernelspec": {
   "display_name": "Python 3 (ipykernel)",
   "language": "python",
   "name": "python3"
  },
  "language_info": {
   "codemirror_mode": {
    "name": "ipython",
    "version": 3
   },
   "file_extension": ".py",
   "mimetype": "text/x-python",
   "name": "python",
   "nbconvert_exporter": "python",
   "pygments_lexer": "ipython3",
   "version": "3.11.1"
  }
 },
 "nbformat": 4,
 "nbformat_minor": 5
}
