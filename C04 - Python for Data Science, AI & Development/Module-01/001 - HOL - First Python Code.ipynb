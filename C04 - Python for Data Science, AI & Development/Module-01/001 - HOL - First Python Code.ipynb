{
 "cells": [
  {
   "cell_type": "markdown",
   "id": "3b8adf13-da51-4e6b-8440-f81618af46a3",
   "metadata": {},
   "source": [
    "### What version of Python are we using?"
   ]
  },
  {
   "cell_type": "code",
   "execution_count": 1,
   "id": "b1a0a60b-8b21-40e5-a825-74cd12f9cffd",
   "metadata": {},
   "outputs": [
    {
     "name": "stdout",
     "output_type": "stream",
     "text": [
      "3.11.1 (tags/v3.11.1:a7a450f, Dec  6 2022, 19:58:39) [MSC v.1934 64 bit (AMD64)]\n"
     ]
    }
   ],
   "source": [
    "# Check the Python Version\n",
    "\n",
    "import sys\n",
    "print(sys.version)"
   ]
  },
  {
   "cell_type": "markdown",
   "id": "a404f0a6-27cd-430a-9581-92f73355a3ee",
   "metadata": {},
   "source": [
    "### Writing comments in Python"
   ]
  },
  {
   "cell_type": "code",
   "execution_count": 2,
   "id": "6149db50-c1e1-4385-9949-ec0894e40c5c",
   "metadata": {},
   "outputs": [
    {
     "name": "stdout",
     "output_type": "stream",
     "text": [
      "Hello, Python!\n"
     ]
    }
   ],
   "source": [
    "# Practice on writing comments\n",
    "\n",
    "print('Hello, Python!') # This line prints a string\n",
    "# print(\"Hi\")"
   ]
  },
  {
   "cell_type": "markdown",
   "id": "9b8258e1-1cb3-4b17-a463-2da2f8cb3bb1",
   "metadata": {},
   "source": [
    "### <center>Exercise: Your First Program</center>"
   ]
  },
  {
   "cell_type": "code",
   "execution_count": 3,
   "id": "1fbd87f4-de77-47a1-bf4d-17e5fcd84777",
   "metadata": {},
   "outputs": [
    {
     "name": "stdout",
     "output_type": "stream",
     "text": [
      "Hello, world!\n"
     ]
    }
   ],
   "source": [
    "# Generations of programmers have started their coding careers by simply printing \"Hello, world!\". You will be following in their footsteps.\n",
    "# In the code cell below, use the print() function to print out the phrase: Hello, world!\n",
    "print(\"Hello, world!\")"
   ]
  },
  {
   "cell_type": "code",
   "execution_count": 4,
   "id": "3c8fbae6-f598-4f3f-8851-6754ee2794e8",
   "metadata": {},
   "outputs": [
    {
     "name": "stdout",
     "output_type": "stream",
     "text": [
      "17\n"
     ]
    }
   ],
   "source": [
    "# What is the value of z where z = 2 + 15?\n",
    "z = 2 + 15\n",
    "print(z)"
   ]
  }
 ],
 "metadata": {
  "kernelspec": {
   "display_name": "Python 3 (ipykernel)",
   "language": "python",
   "name": "python3"
  },
  "language_info": {
   "codemirror_mode": {
    "name": "ipython",
    "version": 3
   },
   "file_extension": ".py",
   "mimetype": "text/x-python",
   "name": "python",
   "nbconvert_exporter": "python",
   "pygments_lexer": "ipython3",
   "version": "3.11.1"
  }
 },
 "nbformat": 4,
 "nbformat_minor": 5
}
