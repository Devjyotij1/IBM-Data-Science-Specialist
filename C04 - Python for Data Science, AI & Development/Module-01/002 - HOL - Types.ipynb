{
 "cells": [
  {
   "cell_type": "markdown",
   "id": "85c19fff-3158-4933-a064-d868db7d5bfa",
   "metadata": {},
   "source": [
    "### Exercise: Types"
   ]
  },
  {
   "cell_type": "markdown",
   "id": "425222b1-b755-46be-afbc-4ba81203f97f",
   "metadata": {},
   "source": [
    "Q1 : What is the data type of the result of: 6 / 2?"
   ]
  },
  {
   "cell_type": "code",
   "execution_count": 1,
   "id": "21d4832e-305b-44d7-a207-17714720a65b",
   "metadata": {},
   "outputs": [
    {
     "name": "stdout",
     "output_type": "stream",
     "text": [
      "<class 'float'>\n"
     ]
    }
   ],
   "source": [
    "print(type(6/2))"
   ]
  },
  {
   "cell_type": "markdown",
   "id": "59e8c3b1-dbab-46ab-b120-a1d10b0705bf",
   "metadata": {},
   "source": [
    "Q2 : What is the type of the result of: 6 // 2? (Note the double slash //.)"
   ]
  },
  {
   "cell_type": "code",
   "execution_count": 2,
   "id": "e689483c-06f3-472f-80e6-bfbdc64dcb2f",
   "metadata": {},
   "outputs": [
    {
     "name": "stdout",
     "output_type": "stream",
     "text": [
      "<class 'int'>\n"
     ]
    }
   ],
   "source": [
    "print(type(6//2))"
   ]
  },
  {
   "cell_type": "markdown",
   "id": "6006731c-7130-4873-9fca-6778e6d112f3",
   "metadata": {},
   "source": [
    "Q3 : What is the type of the result of: <code>\"Hello, World!\"</code>"
   ]
  },
  {
   "cell_type": "code",
   "execution_count": 3,
   "id": "26a10475-8561-43d0-8eaa-832c8f26dc66",
   "metadata": {},
   "outputs": [
    {
     "name": "stdout",
     "output_type": "stream",
     "text": [
      "<class 'str'>\n"
     ]
    }
   ],
   "source": [
    "print(type(\"Hello, World!\"))"
   ]
  },
  {
   "cell_type": "markdown",
   "id": "17ecfe5b-bc65-4f47-9092-0a50e3c5d3ca",
   "metadata": {},
   "source": [
    "Q4 : What is the type of the result of: \"hello\" == \"world\""
   ]
  },
  {
   "cell_type": "code",
   "execution_count": 4,
   "id": "55cd960e-1e62-4dd4-b524-b64b0b68d6d7",
   "metadata": {},
   "outputs": [
    {
     "name": "stdout",
     "output_type": "stream",
     "text": [
      "<class 'bool'>\n"
     ]
    }
   ],
   "source": [
    "print(type(\"hello\" == \"world\"))"
   ]
  },
  {
   "cell_type": "markdown",
   "id": "931f0d99-640f-4957-b153-5da62e96849e",
   "metadata": {},
   "source": [
    "Q5 : Write the code to convert the following number representing employeeid \"1001\" to an integer"
   ]
  },
  {
   "cell_type": "code",
   "execution_count": 5,
   "id": "27da9887-de1f-4ce2-9f6b-73513e135493",
   "metadata": {},
   "outputs": [
    {
     "name": "stdout",
     "output_type": "stream",
     "text": [
      "Before Conversion : <class 'str'>\n",
      "After Conversion : <class 'int'>\n"
     ]
    }
   ],
   "source": [
    "employee_id = \"1001\"\n",
    "print(f\"Before Conversion : {type(employee_id)}\")\n",
    "employee_id = int(employee_id)\n",
    "print(f\"After Conversion : {type(employee_id)}\")"
   ]
  },
  {
   "cell_type": "markdown",
   "id": "cc00d72b-3bb3-40e3-ac6e-13a007522bae",
   "metadata": {},
   "source": [
    "Q6 : Write the code to convert this number representing financial value \"1234.56\" to a floating point number"
   ]
  },
  {
   "cell_type": "code",
   "execution_count": 6,
   "id": "ce0bff6f-b6ee-4135-bbae-be4f9536d200",
   "metadata": {},
   "outputs": [
    {
     "name": "stdout",
     "output_type": "stream",
     "text": [
      "Before Conversion : <class 'str'>\n",
      "After Conversion : <class 'float'>\n"
     ]
    }
   ],
   "source": [
    "financial_value = \"1234.56\"\n",
    "print(f\"Before Conversion : {type(financial_value)}\")\n",
    "financial_value = float(financial_value)\n",
    "print(f\"After Conversion : {type(financial_value)}\")"
   ]
  },
  {
   "cell_type": "markdown",
   "id": "922a922f-eaaa-490c-96c0-df135fd2169d",
   "metadata": {},
   "source": [
    "Q7 : Write the code to convert this phone number 123-456-7890 to a string"
   ]
  },
  {
   "cell_type": "code",
   "execution_count": 7,
   "id": "d424a055-1ae0-46cf-8344-f6b0887c2e22",
   "metadata": {},
   "outputs": [
    {
     "name": "stdout",
     "output_type": "stream",
     "text": [
      "Before Conversion : <class 'int'>\n",
      "After Conversion : <class 'str'>\n"
     ]
    }
   ],
   "source": [
    "phone_number = 123-456-7890\n",
    "print(f\"Before Conversion : {type(phone_number)}\")\n",
    "phone_number = str(phone_number)\n",
    "print(f\"After Conversion : {type(phone_number)}\")"
   ]
  }
 ],
 "metadata": {
  "kernelspec": {
   "display_name": "Python 3 (ipykernel)",
   "language": "python",
   "name": "python3"
  },
  "language_info": {
   "codemirror_mode": {
    "name": "ipython",
    "version": 3
   },
   "file_extension": ".py",
   "mimetype": "text/x-python",
   "name": "python",
   "nbconvert_exporter": "python",
   "pygments_lexer": "ipython3",
   "version": "3.11.1"
  }
 },
 "nbformat": 4,
 "nbformat_minor": 5
}
