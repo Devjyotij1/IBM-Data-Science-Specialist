{
 "cells": [
  {
   "cell_type": "markdown",
   "id": "b01513ca-1db6-45a0-a03a-0562a7b7cda9",
   "metadata": {},
   "source": [
    "### Exercise: Expressions in Python"
   ]
  },
  {
   "cell_type": "markdown",
   "id": "9a348f1e-ed0f-47a1-bf99-812135450415",
   "metadata": {},
   "source": [
    "Q1 : Write an expression to add 30 and 20 and subtract 40"
   ]
  },
  {
   "cell_type": "code",
   "execution_count": 1,
   "id": "cd6e0f50-ff12-42c4-b72a-a8a96b53e71d",
   "metadata": {},
   "outputs": [
    {
     "data": {
      "text/plain": [
       "10"
      ]
     },
     "execution_count": 1,
     "metadata": {},
     "output_type": "execute_result"
    }
   ],
   "source": [
    "30+20-40"
   ]
  },
  {
   "cell_type": "markdown",
   "id": "24e4c695-0558-46f4-bfc1-550f51c7d6e3",
   "metadata": {},
   "source": [
    "Q2 : Write an expression to subtract 5 from 55 and divide the result by 10"
   ]
  },
  {
   "cell_type": "code",
   "execution_count": 3,
   "id": "41a47464-757e-4b92-8e27-9979dbbf9858",
   "metadata": {},
   "outputs": [
    {
     "data": {
      "text/plain": [
       "5.0"
      ]
     },
     "execution_count": 3,
     "metadata": {},
     "output_type": "execute_result"
    }
   ],
   "source": [
    "(55-5)/10"
   ]
  },
  {
   "cell_type": "markdown",
   "id": "2936e57b-0f3e-42dc-800b-b3c68b022c27",
   "metadata": {},
   "source": [
    "Q3 : Write an expression to multiply 6 with 10 and divide the result by 12"
   ]
  },
  {
   "cell_type": "code",
   "execution_count": 4,
   "id": "e39f3bdb-a17f-4af4-a216-b47801c0a812",
   "metadata": {},
   "outputs": [
    {
     "data": {
      "text/plain": [
       "5.0"
      ]
     },
     "execution_count": 4,
     "metadata": {},
     "output_type": "execute_result"
    }
   ],
   "source": [
    "(6*10)/12"
   ]
  },
  {
   "cell_type": "markdown",
   "id": "c60c55e5-ee19-4371-bf96-7296c7af4d12",
   "metadata": {},
   "source": [
    "### Exercise: Variables in Python"
   ]
  },
  {
   "cell_type": "markdown",
   "id": "b25fc4db-228a-44d1-ab56-f0441576a25e",
   "metadata": {},
   "source": [
    "Q1 : What is the value of x where x = 3 + 2 * 2"
   ]
  },
  {
   "cell_type": "code",
   "execution_count": 5,
   "id": "aa36431f-9b69-4821-86be-c2cab1c1dcd0",
   "metadata": {},
   "outputs": [
    {
     "name": "stdout",
     "output_type": "stream",
     "text": [
      "7\n"
     ]
    }
   ],
   "source": [
    "x = 3 + 2 * 2\n",
    "print(x)"
   ]
  },
  {
   "cell_type": "markdown",
   "id": "e57b057a-d192-4562-86c7-e1d1fd3ca8e9",
   "metadata": {},
   "source": [
    "Q2 : What is the value of y where y = (3 + 2) * 2?"
   ]
  },
  {
   "cell_type": "code",
   "execution_count": 6,
   "id": "972fb674-cb5a-4e5b-8ec8-483d69559901",
   "metadata": {},
   "outputs": [
    {
     "name": "stdout",
     "output_type": "stream",
     "text": [
      "10\n"
     ]
    }
   ],
   "source": [
    "y = (3 + 2) * 2\n",
    "print(y)"
   ]
  },
  {
   "cell_type": "markdown",
   "id": "1c7d5cbb-be45-48aa-bae2-cf7f5e064225",
   "metadata": {},
   "source": [
    "Q3 : What is the value of z where z = x + y?"
   ]
  },
  {
   "cell_type": "code",
   "execution_count": 7,
   "id": "6a8aa273-8cd0-49f7-8000-444ee123d144",
   "metadata": {},
   "outputs": [
    {
     "name": "stdout",
     "output_type": "stream",
     "text": [
      "17\n"
     ]
    }
   ],
   "source": [
    "z = x + y\n",
    "print(z)"
   ]
  }
 ],
 "metadata": {
  "kernelspec": {
   "display_name": "Python 3 (ipykernel)",
   "language": "python",
   "name": "python3"
  },
  "language_info": {
   "codemirror_mode": {
    "name": "ipython",
    "version": 3
   },
   "file_extension": ".py",
   "mimetype": "text/x-python",
   "name": "python",
   "nbconvert_exporter": "python",
   "pygments_lexer": "ipython3",
   "version": "3.11.1"
  }
 },
 "nbformat": 4,
 "nbformat_minor": 5
}
