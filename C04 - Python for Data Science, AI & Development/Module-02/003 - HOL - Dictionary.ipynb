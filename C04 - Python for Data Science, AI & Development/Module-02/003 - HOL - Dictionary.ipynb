{
 "cells": [
  {
   "cell_type": "markdown",
   "id": "e4e49fea-52d5-4517-9eed-e5fd59ca901f",
   "metadata": {},
   "source": [
    "### Quiz on Dictionaries"
   ]
  },
  {
   "cell_type": "code",
   "execution_count": 5,
   "id": "8e0b2360-f188-4aae-be46-654d505198eb",
   "metadata": {},
   "outputs": [
    {
     "data": {
      "text/plain": [
       "{'The Bodyguard': '1992', 'Saturday Night Fever': '1977'}"
      ]
     },
     "execution_count": 5,
     "metadata": {},
     "output_type": "execute_result"
    }
   ],
   "source": [
    "# Question sample dictionary\n",
    "\n",
    "soundtrack_dic = {\"The Bodyguard\":\"1992\", \"Saturday Night Fever\":\"1977\"}\n",
    "soundtrack_dic"
   ]
  },
  {
   "cell_type": "markdown",
   "id": "a5137c3d-1be1-404f-9d92-9dae70759faf",
   "metadata": {},
   "source": [
    "<b>Q1 :</b> In the dictionary <b>soundtrack_dic</b> what are the <b>keys</b> ?"
   ]
  },
  {
   "cell_type": "code",
   "execution_count": 6,
   "id": "e146efc8-dd8e-464e-9114-228bd82537dc",
   "metadata": {},
   "outputs": [
    {
     "data": {
      "text/plain": [
       "dict_keys(['The Bodyguard', 'Saturday Night Fever'])"
      ]
     },
     "execution_count": 6,
     "metadata": {},
     "output_type": "execute_result"
    }
   ],
   "source": [
    "soundtrack_dic.keys()"
   ]
  },
  {
   "cell_type": "markdown",
   "id": "47b00229-603a-468c-8764-db7d7a752477",
   "metadata": {},
   "source": [
    "<b>Q2 :</b> In the dictionary <b>soundtrack_dic</b> what are the <b>values</b> ?"
   ]
  },
  {
   "cell_type": "code",
   "execution_count": 8,
   "id": "fc7bc60a-6ec9-424b-aff8-f0ac6159acea",
   "metadata": {},
   "outputs": [
    {
     "data": {
      "text/plain": [
       "dict_values(['1992', '1977'])"
      ]
     },
     "execution_count": 8,
     "metadata": {},
     "output_type": "execute_result"
    }
   ],
   "source": [
    "soundtrack_dic.values()"
   ]
  },
  {
   "cell_type": "markdown",
   "id": "b1c14135-5e1f-4165-ac04-cadc1c87340d",
   "metadata": {},
   "source": [
    "____"
   ]
  },
  {
   "cell_type": "markdown",
   "id": "08d9b9e5-8400-4899-b39c-2e0489c3efaa",
   "metadata": {},
   "source": [
    "##### You will need this dictionary for the following questions:\n",
    "\n",
    "The Albums <b>Back in Black</b>, <b>The Bodyguard</b> and <b>Thriller</b> have the following music recording sales in millions <b>50, 50 and 65</b> respectively:"
   ]
  },
  {
   "cell_type": "markdown",
   "id": "e7174bc9-4020-465f-8119-5046b7b69cc3",
   "metadata": {},
   "source": [
    "<b>Q3 :</b> Create a dictionary <b>album_sales_dict</b> where the keys are the album name and the sales in millions are the values."
   ]
  },
  {
   "cell_type": "code",
   "execution_count": 10,
   "id": "27ce49cc-1118-4eec-b365-ed1567f915d6",
   "metadata": {},
   "outputs": [
    {
     "data": {
      "text/plain": [
       "{'Back in Black': 50, 'The Bodyguard': 50, 'Thriller': 65}"
      ]
     },
     "execution_count": 10,
     "metadata": {},
     "output_type": "execute_result"
    }
   ],
   "source": [
    "album_sales_dict = {\"Back in Black\" : 50,\n",
    "\"The Bodyguard\" : 50,\n",
    "\"Thriller\" : 65\n",
    "}\n",
    "album_sales_dict"
   ]
  },
  {
   "cell_type": "markdown",
   "id": "45a223f8-99de-441d-86cc-932fd08c0fb3",
   "metadata": {},
   "source": [
    "<b>Q4 :</b> Use the dictionary to find the <b>total sales</b> of <b>Thriller</b>:"
   ]
  },
  {
   "cell_type": "code",
   "execution_count": 12,
   "id": "04186e69-f7d9-44f2-9cb8-026bef13f3b6",
   "metadata": {},
   "outputs": [
    {
     "name": "stdout",
     "output_type": "stream",
     "text": [
      "Total Sales Thriller : 65\n"
     ]
    }
   ],
   "source": [
    "print(f\"Total Sales Thriller : {album_sales_dict['Thriller']}\")"
   ]
  },
  {
   "cell_type": "markdown",
   "id": "56a7ab0f-a135-402d-8d4f-68a7187d15c4",
   "metadata": {},
   "source": [
    "<b>Q5 :</b> Find the names of the albums from the dictionary using the method keys():"
   ]
  },
  {
   "cell_type": "code",
   "execution_count": 13,
   "id": "606eb601-ee55-4898-a8cc-76902b2303f8",
   "metadata": {},
   "outputs": [
    {
     "data": {
      "text/plain": [
       "dict_keys(['Back in Black', 'The Bodyguard', 'Thriller'])"
      ]
     },
     "execution_count": 13,
     "metadata": {},
     "output_type": "execute_result"
    }
   ],
   "source": [
    "album_sales_dict.keys()"
   ]
  },
  {
   "cell_type": "markdown",
   "id": "4cc2e89e-232d-43ac-9b59-075f18139020",
   "metadata": {},
   "source": [
    "<b>Q6 :</b> Find the values of the recording sales from the dictionary using the method values:"
   ]
  },
  {
   "cell_type": "code",
   "execution_count": 14,
   "id": "8d21867f-9de4-41a0-9ca1-b28df5bc7179",
   "metadata": {},
   "outputs": [
    {
     "data": {
      "text/plain": [
       "dict_values([50, 50, 65])"
      ]
     },
     "execution_count": 14,
     "metadata": {},
     "output_type": "execute_result"
    }
   ],
   "source": [
    "album_sales_dict.values()"
   ]
  },
  {
   "cell_type": "markdown",
   "id": "634e0635-c4e3-4728-8d78-8423d848f1f4",
   "metadata": {},
   "source": [
    "### Scenario:Inventory Store\n",
    "The inventory store scenario project utilizes a dictionary-based approach to develop a robust system for managing and tracking inventory in a retail store.\n",
    "Note:- You will be working with two product details."
   ]
  },
  {
   "cell_type": "markdown",
   "id": "8fdceb91-4ed5-4a98-97ec-815a42473849",
   "metadata": {},
   "source": [
    "<b>Task-1 :</b> Create an empty dictionary\n",
    "\n",
    "First you need to create an empty dictionary, where you will be storing the product details."
   ]
  },
  {
   "cell_type": "code",
   "execution_count": 30,
   "id": "85c5ab48-4047-4843-88ff-e025d6c62494",
   "metadata": {},
   "outputs": [
    {
     "name": "stdout",
     "output_type": "stream",
     "text": [
      "{}\n",
      "{'product1': {}}\n"
     ]
    }
   ],
   "source": [
    "inventory = {}\n",
    "print(inventory)\n",
    "inventory[\"product1\"] = {}\n",
    "print(inventory)"
   ]
  },
  {
   "cell_type": "markdown",
   "id": "7cb4575d-c59f-493d-93b1-6b9c2ec558c9",
   "metadata": {},
   "source": [
    "<b>Task-2 :</b> Store the first product details in variable\n",
    "- Product Name= Mobile phone\n",
    "- Product Quantity= 5\n",
    "- Product price= 20000\n",
    "- Product Release Year= 2020"
   ]
  },
  {
   "cell_type": "code",
   "execution_count": 31,
   "id": "8c62a596-ba4c-45cb-b2e7-4b791e81fb72",
   "metadata": {},
   "outputs": [],
   "source": [
    "product1 ={\"Product Name\" : \"Mobile phone\",\"Product Quantity\" : 5,\"Product price\" : 20000,\"Product Release Year\" : \"2020\"}\n"
   ]
  },
  {
   "cell_type": "markdown",
   "id": "093da39b-70cd-43c1-9793-7e86088bd3e5",
   "metadata": {},
   "source": [
    "<b>Task-3 :</b> Add the details in inventory"
   ]
  },
  {
   "cell_type": "code",
   "execution_count": 32,
   "id": "30deed07-c1cd-4909-84d0-97f66a541a07",
   "metadata": {},
   "outputs": [
    {
     "data": {
      "text/plain": [
       "{'product1': {'Product Name': 'Mobile phone',\n",
       "  'Product Quantity': 5,\n",
       "  'Product price': 20000,\n",
       "  'Product Release Year': '2020'}}"
      ]
     },
     "execution_count": 32,
     "metadata": {},
     "output_type": "execute_result"
    }
   ],
   "source": [
    "inventory[\"product1\"] = product1\n",
    "inventory"
   ]
  },
  {
   "cell_type": "markdown",
   "id": "0a84c0f7-0998-4b02-9a81-25ee85994693",
   "metadata": {},
   "source": [
    "<b>Task-4 :</b> Store the second product details in a variable.\n",
    "- Product Name= \"Laptop\"\n",
    "- Product Quantity= 10\n",
    "- Product price = 50000\n",
    "- Product Release Year= 2023"
   ]
  },
  {
   "cell_type": "code",
   "execution_count": 33,
   "id": "18083372-515f-44c7-af90-add46bbad43e",
   "metadata": {},
   "outputs": [],
   "source": [
    "product2 ={\"Product Name\" : \"Laptop\",\"Product Quantity\" : 10,\"Product price\" : 50000,\"Product Release Year\" : \"2023\"}"
   ]
  },
  {
   "cell_type": "markdown",
   "id": "5afa53c4-4e1a-49f1-ae0c-f944fdd25a9f",
   "metadata": {},
   "source": [
    "<b>Task-5 :</b> Add the item detail into the inventory."
   ]
  },
  {
   "cell_type": "code",
   "execution_count": 34,
   "id": "a001ba46-d36e-4195-b595-11f8eda8de3c",
   "metadata": {},
   "outputs": [
    {
     "data": {
      "text/plain": [
       "{'product1': {'Product Name': 'Mobile phone',\n",
       "  'Product Quantity': 5,\n",
       "  'Product price': 20000,\n",
       "  'Product Release Year': '2020'},\n",
       " 'product2': {'Product Name': 'Laptop',\n",
       "  'Product Quantity': 10,\n",
       "  'Product price': 50000,\n",
       "  'Product Release Year': '2023'}}"
      ]
     },
     "execution_count": 34,
     "metadata": {},
     "output_type": "execute_result"
    }
   ],
   "source": [
    "inventory[\"product2\"] = product2\n",
    "inventory"
   ]
  },
  {
   "cell_type": "markdown",
   "id": "2783d124-b386-4955-9422-ced35628c1b5",
   "metadata": {},
   "source": [
    "<b>Task-6 :</b> Display the Products present in the inventory"
   ]
  },
  {
   "cell_type": "code",
   "execution_count": 43,
   "id": "0df36449-d9b6-4a49-94d9-b6bca790a60d",
   "metadata": {},
   "outputs": [
    {
     "name": "stdout",
     "output_type": "stream",
     "text": [
      "List of Products\n",
      "________________\n",
      "Mobile phone\n",
      "Laptop\n"
     ]
    }
   ],
   "source": [
    "k = inventory.keys()\n",
    "print(\"List of Products\")\n",
    "print(\"________________\")\n",
    "for i in k:\n",
    "    print(inventory[i]['Product Name'])"
   ]
  },
  {
   "cell_type": "markdown",
   "id": "f76b1f8d-56df-4fa2-ae65-dd1b7ecc165f",
   "metadata": {},
   "source": [
    "<b>Task-7 :</b> Check if <b>ProductNo1_releaseYear</b> and <b>ProductNo2_releaseYear</b> is in the inventory\n",
    "\n",
    "As in inventory <b>Release year</b> is not required, let's delete it."
   ]
  },
  {
   "cell_type": "code",
   "execution_count": null,
   "id": "11d4ab5f-684b-48ea-a1a5-db5f48fa7ee3",
   "metadata": {},
   "outputs": [],
   "source": []
  },
  {
   "cell_type": "markdown",
   "id": "f88ae775-897f-4995-b397-e5a7c482d92b",
   "metadata": {},
   "source": [
    "<b>Task-8 :</b> Delete release year of both the products from the inventory"
   ]
  },
  {
   "cell_type": "code",
   "execution_count": null,
   "id": "b976f84e-ace0-4a6f-8d1a-8e967171e8b3",
   "metadata": {},
   "outputs": [],
   "source": []
  }
 ],
 "metadata": {
  "kernelspec": {
   "display_name": "Python 3 (ipykernel)",
   "language": "python",
   "name": "python3"
  },
  "language_info": {
   "codemirror_mode": {
    "name": "ipython",
    "version": 3
   },
   "file_extension": ".py",
   "mimetype": "text/x-python",
   "name": "python",
   "nbconvert_exporter": "python",
   "pygments_lexer": "ipython3",
   "version": "3.11.1"
  }
 },
 "nbformat": 4,
 "nbformat_minor": 5
}
