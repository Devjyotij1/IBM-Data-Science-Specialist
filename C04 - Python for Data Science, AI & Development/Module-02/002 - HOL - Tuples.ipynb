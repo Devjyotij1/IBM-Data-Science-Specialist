{
 "cells": [
  {
   "cell_type": "markdown",
   "id": "d69c8436-60af-4af8-ab98-83a0d82f3718",
   "metadata": {},
   "source": [
    "### Quiz on Tuples"
   ]
  },
  {
   "cell_type": "markdown",
   "id": "bfbc38ab-333d-42ef-b865-e7cb70614652",
   "metadata": {},
   "source": [
    "Consider the following tuple:"
   ]
  },
  {
   "cell_type": "code",
   "execution_count": 1,
   "id": "cd67ff42-0cd9-4f63-8d45-9e8fb2c9720f",
   "metadata": {},
   "outputs": [
    {
     "data": {
      "text/plain": [
       "('pop',\n",
       " 'rock',\n",
       " 'soul',\n",
       " 'hard rock',\n",
       " 'soft rock',\n",
       " 'R&B',\n",
       " 'progressive rock',\n",
       " 'disco')"
      ]
     },
     "execution_count": 1,
     "metadata": {},
     "output_type": "execute_result"
    }
   ],
   "source": [
    "# sample tuple\n",
    "\n",
    "genres_tuple = (\"pop\", \"rock\", \"soul\", \"hard rock\", \"soft rock\", \\\n",
    "                \"R&B\", \"progressive rock\", \"disco\") \n",
    "genres_tuple"
   ]
  },
  {
   "cell_type": "markdown",
   "id": "10d56e96-218c-4f49-9c23-7bcbfab9eddd",
   "metadata": {},
   "source": [
    "<b>Q1 :</b> Find the length of the tuple, <code><b>genres_tuple</b></code>:"
   ]
  },
  {
   "cell_type": "code",
   "execution_count": 2,
   "id": "efc001b9-e177-4613-a2b7-df39986c5efe",
   "metadata": {},
   "outputs": [
    {
     "data": {
      "text/plain": [
       "8"
      ]
     },
     "execution_count": 2,
     "metadata": {},
     "output_type": "execute_result"
    }
   ],
   "source": [
    "len(genres_tuple)"
   ]
  },
  {
   "cell_type": "markdown",
   "id": "021e3ce3-21d2-4c2e-9443-981346cae1da",
   "metadata": {},
   "source": [
    "<b>Q2 :</b> Access the element, with respect to index <code><b>3</b></code>:"
   ]
  },
  {
   "cell_type": "code",
   "execution_count": 3,
   "id": "c00a043f-f00f-4519-b350-525b4e2432e6",
   "metadata": {},
   "outputs": [
    {
     "data": {
      "text/plain": [
       "'hard rock'"
      ]
     },
     "execution_count": 3,
     "metadata": {},
     "output_type": "execute_result"
    }
   ],
   "source": [
    "genres_tuple[3]"
   ]
  },
  {
   "cell_type": "markdown",
   "id": "b71dead3-87ed-4426-8abb-e89ffb83eb28",
   "metadata": {},
   "source": [
    "<b>Q3:</b> Use slicing to obtain indexes <code><b>3, 4 and 5</b></code>:"
   ]
  },
  {
   "cell_type": "code",
   "execution_count": 4,
   "id": "99ce2233-1240-4b07-a247-5d959bb2a126",
   "metadata": {},
   "outputs": [
    {
     "data": {
      "text/plain": [
       "('hard rock', 'soft rock', 'R&B')"
      ]
     },
     "execution_count": 4,
     "metadata": {},
     "output_type": "execute_result"
    }
   ],
   "source": [
    "genres_tuple[3:6]"
   ]
  },
  {
   "cell_type": "markdown",
   "id": "3ac1e0b4-392c-42d2-acd6-6cf3b473aed4",
   "metadata": {},
   "source": [
    "<b>Q4 :</b> Find the first two elements of the tuple <code><b>genres_tuple</b></code>:"
   ]
  },
  {
   "cell_type": "code",
   "execution_count": 6,
   "id": "7ed325db-693b-4565-9299-664ac9980c79",
   "metadata": {},
   "outputs": [
    {
     "data": {
      "text/plain": [
       "('pop', 'rock')"
      ]
     },
     "execution_count": 6,
     "metadata": {},
     "output_type": "execute_result"
    }
   ],
   "source": [
    "genres_tuple[:2]"
   ]
  },
  {
   "cell_type": "markdown",
   "id": "22f7098a-645f-42c9-ac3f-e816945149c0",
   "metadata": {},
   "source": [
    "<b>Q5 :</b> Find the index of <code><b>'s'</b></code> in <code><b>\"disco\"</b></code>:"
   ]
  },
  {
   "cell_type": "code",
   "execution_count": 8,
   "id": "5266ff59-d856-44d5-8f90-ae332130419b",
   "metadata": {},
   "outputs": [
    {
     "data": {
      "text/plain": [
       "2"
      ]
     },
     "execution_count": 8,
     "metadata": {},
     "output_type": "execute_result"
    }
   ],
   "source": [
    "\"disco\".find(\"s\")"
   ]
  },
  {
   "cell_type": "markdown",
   "id": "256c773c-fd5a-4843-9604-238f4e1b9604",
   "metadata": {},
   "source": [
    "<b>Q6 :</b> Generate a sorted List from the Tuple <code><b>C_tuple=(-5, 1, -3)</b></code>:"
   ]
  },
  {
   "cell_type": "code",
   "execution_count": 10,
   "id": "7d0dcbd2-d3e2-4bc4-8280-cddefde07b89",
   "metadata": {},
   "outputs": [
    {
     "data": {
      "text/plain": [
       "[-5, -3, 1]"
      ]
     },
     "execution_count": 10,
     "metadata": {},
     "output_type": "execute_result"
    }
   ],
   "source": [
    "C_tuple = (-5, 1, -3)\n",
    "sorted(C_tuple)"
   ]
  },
  {
   "cell_type": "code",
   "execution_count": null,
   "id": "0ca362f7-3499-4ccd-ad31-5346783b7cfb",
   "metadata": {},
   "outputs": [],
   "source": []
  }
 ],
 "metadata": {
  "kernelspec": {
   "display_name": "Python 3 (ipykernel)",
   "language": "python",
   "name": "python3"
  },
  "language_info": {
   "codemirror_mode": {
    "name": "ipython",
    "version": 3
   },
   "file_extension": ".py",
   "mimetype": "text/x-python",
   "name": "python",
   "nbconvert_exporter": "python",
   "pygments_lexer": "ipython3",
   "version": "3.11.1"
  }
 },
 "nbformat": 4,
 "nbformat_minor": 5
}
