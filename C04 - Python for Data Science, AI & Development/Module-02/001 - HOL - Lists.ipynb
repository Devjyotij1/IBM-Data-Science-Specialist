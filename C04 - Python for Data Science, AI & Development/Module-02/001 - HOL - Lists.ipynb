{
 "cells": [
  {
   "cell_type": "markdown",
   "id": "58e6e130-1f28-4da9-a7e6-986f322ad020",
   "metadata": {},
   "source": [
    "## <center>Quiz on List</center>"
   ]
  },
  {
   "cell_type": "markdown",
   "id": "7c6320b2-de49-47fe-b5e6-42a33c37030c",
   "metadata": {},
   "source": [
    "<b>Q1 :</b> Create a list <b>a_list</b>, with the following elements <b>1, hello, [1,2,3] and True</b>."
   ]
  },
  {
   "cell_type": "code",
   "execution_count": 2,
   "id": "b8d2cce3-689a-4da9-b107-4686b9a5c0d7",
   "metadata": {},
   "outputs": [],
   "source": [
    "a_list = [1,'hello',[1,2,3],True]"
   ]
  },
  {
   "cell_type": "markdown",
   "id": "9dd87e4b-410b-404c-922d-992895e998dc",
   "metadata": {},
   "source": [
    "<b>Q2 :</b> Find the value stored at <b>index 1</b> of <b>a_list</b>."
   ]
  },
  {
   "cell_type": "code",
   "execution_count": 3,
   "id": "2058f8ae-d8e7-4e1d-a8bc-4dc1d63c1cd1",
   "metadata": {},
   "outputs": [
    {
     "data": {
      "text/plain": [
       "'hello'"
      ]
     },
     "execution_count": 3,
     "metadata": {},
     "output_type": "execute_result"
    }
   ],
   "source": [
    "a_list[1]"
   ]
  },
  {
   "cell_type": "markdown",
   "id": "5ccf7d1e-122e-46be-9de4-b9ba96c86d50",
   "metadata": {},
   "source": [
    "<b>Q3 :</b> Retrieve the elements stored at <b>index 1, 2 and 3</b> of <b>a_list</b>."
   ]
  },
  {
   "cell_type": "code",
   "execution_count": 5,
   "id": "ac73b0f4-591f-4cb3-85a0-b9224623bef6",
   "metadata": {},
   "outputs": [
    {
     "data": {
      "text/plain": [
       "['hello', [1, 2, 3], True]"
      ]
     },
     "execution_count": 5,
     "metadata": {},
     "output_type": "execute_result"
    }
   ],
   "source": [
    "a_list[1:4]"
   ]
  },
  {
   "cell_type": "markdown",
   "id": "580e05a5-ec55-4a86-80d6-0c4750360fa9",
   "metadata": {},
   "source": [
    "<b>Q4 :</b> Concatenate the following lists <b>A = [1, 'a']</b> and <b>B = [2, 1, 'd']</b>:"
   ]
  },
  {
   "cell_type": "code",
   "execution_count": 7,
   "id": "7c59c9be-dcb3-4774-bde0-7c8accc5ac3b",
   "metadata": {},
   "outputs": [
    {
     "data": {
      "text/plain": [
       "[1, 'a', 2, 1, 'd']"
      ]
     },
     "execution_count": 7,
     "metadata": {},
     "output_type": "execute_result"
    }
   ],
   "source": [
    "A = [1,'a']\n",
    "B = [2,1,'d']\n",
    "A + B"
   ]
  },
  {
   "cell_type": "markdown",
   "id": "5466cccc-ffb5-4dff-8670-011356d49c05",
   "metadata": {},
   "source": [
    "_______________"
   ]
  },
  {
   "cell_type": "markdown",
   "id": "839db10f-fbf8-4775-9285-b34c132be06c",
   "metadata": {},
   "source": [
    "### Scenario : Shopping list"
   ]
  },
  {
   "cell_type": "markdown",
   "id": "a69a0753-b3c8-4161-b42a-e75192d2338c",
   "metadata": {},
   "source": [
    "#### Task-1 Create an empty list"
   ]
  },
  {
   "cell_type": "code",
   "execution_count": 17,
   "id": "c22c8d7b-28a1-447f-90a3-0b574d6b4689",
   "metadata": {},
   "outputs": [],
   "source": [
    "shopping_list = []"
   ]
  },
  {
   "cell_type": "markdown",
   "id": "e0f71a26-4405-4758-b3d7-4ab718268a0c",
   "metadata": {},
   "source": [
    "#### Task-2 Now store the number of items to the shopping_list\n",
    "- Watch\n",
    "- Laptop\n",
    "- Shoes\n",
    "- Pen\n",
    "- Clothes"
   ]
  },
  {
   "cell_type": "code",
   "execution_count": 18,
   "id": "9fa86b8d-ba63-4392-af97-aa829304259d",
   "metadata": {},
   "outputs": [],
   "source": [
    "shopping_list.append(\"Watch\")\n",
    "shopping_list.append(\"Laptop\")\n",
    "shopping_list.append(\"Shoes\")\n",
    "shopping_list.append(\"Pen\")\n",
    "shopping_list.append(\"Clothes\")"
   ]
  },
  {
   "cell_type": "markdown",
   "id": "4ef911b1-fe60-4080-8054-3fb64cb6cde8",
   "metadata": {},
   "source": [
    "#### Task-3 Add a new item to the shopping_list\n",
    "- Football"
   ]
  },
  {
   "cell_type": "code",
   "execution_count": 19,
   "id": "34aff872-5228-4f50-9d7d-7d756d432429",
   "metadata": {},
   "outputs": [],
   "source": [
    "shopping_list.append(\"Football\")"
   ]
  },
  {
   "cell_type": "markdown",
   "id": "7c19215f-7367-4227-a8a4-ef77635f8259",
   "metadata": {},
   "source": [
    "#### Task-4 Print First item from the shopping_list"
   ]
  },
  {
   "cell_type": "code",
   "execution_count": 20,
   "id": "d2bdd41a-888c-4eef-9501-3677ccb0ee98",
   "metadata": {},
   "outputs": [
    {
     "data": {
      "text/plain": [
       "'Watch'"
      ]
     },
     "execution_count": 20,
     "metadata": {},
     "output_type": "execute_result"
    }
   ],
   "source": [
    "shopping_list[0]"
   ]
  },
  {
   "cell_type": "markdown",
   "id": "2a8a8043-3a08-426a-a283-6869b9583d33",
   "metadata": {},
   "source": [
    "#### Task-5 Print Last item from the shopping_list"
   ]
  },
  {
   "cell_type": "code",
   "execution_count": 21,
   "id": "183c787b-7583-42e0-a938-3962c5352d5c",
   "metadata": {},
   "outputs": [
    {
     "data": {
      "text/plain": [
       "'Football'"
      ]
     },
     "execution_count": 21,
     "metadata": {},
     "output_type": "execute_result"
    }
   ],
   "source": [
    "shopping_list[-1]"
   ]
  },
  {
   "cell_type": "markdown",
   "id": "a46022d4-254b-40e1-a6dd-d366e4d18238",
   "metadata": {},
   "source": [
    "#### Task-6 Print the entire Shopping List"
   ]
  },
  {
   "cell_type": "code",
   "execution_count": 22,
   "id": "9e72f814-3b3d-466f-ac78-0ff11dac067c",
   "metadata": {},
   "outputs": [
    {
     "data": {
      "text/plain": [
       "['Watch', 'Laptop', 'Shoes', 'Pen', 'Clothes', 'Football']"
      ]
     },
     "execution_count": 22,
     "metadata": {},
     "output_type": "execute_result"
    }
   ],
   "source": [
    "shopping_list"
   ]
  },
  {
   "cell_type": "markdown",
   "id": "c64fc654-c4e7-4909-8199-5ae007cc7261",
   "metadata": {},
   "source": [
    "#### Task-7 Print the item that are important to buy from the Shopping List\n",
    "- Laptop \n",
    "- Shoes\n"
   ]
  },
  {
   "cell_type": "code",
   "execution_count": 23,
   "id": "1c66ac2d-857e-48ce-95b2-d02fd7373814",
   "metadata": {},
   "outputs": [
    {
     "data": {
      "text/plain": [
       "['Laptop', 'Shoes']"
      ]
     },
     "execution_count": 23,
     "metadata": {},
     "output_type": "execute_result"
    }
   ],
   "source": [
    "shopping_list[1:3]"
   ]
  },
  {
   "cell_type": "markdown",
   "id": "e2c08175-40fc-492e-a38a-3b28cacd8502",
   "metadata": {},
   "source": [
    "#### Task-8 Change the item from the shopping_list\n",
    "\n",
    "Instead of \"Pen\" I want to buy \"Notebook\" let's change the item stored in the list."
   ]
  },
  {
   "cell_type": "code",
   "execution_count": 24,
   "id": "7f82f639-f13a-4f1e-87d7-c01a783f772c",
   "metadata": {},
   "outputs": [
    {
     "data": {
      "text/plain": [
       "['Watch', 'Laptop', 'Shoes', 'Notebook', 'Clothes', 'Football']"
      ]
     },
     "execution_count": 24,
     "metadata": {},
     "output_type": "execute_result"
    }
   ],
   "source": [
    "shopping_list[3] = \"Notebook\"\n",
    "shopping_list"
   ]
  },
  {
   "cell_type": "markdown",
   "id": "556988f1-d936-4184-8474-6e3a50500d5f",
   "metadata": {},
   "source": [
    "#### Task-9 Delete the item from the shopping_list that is not required\n",
    "\n",
    "- Let's delete items that are unimportant, such as; I don't want to buy <u>Clothes</u>, let's delete it."
   ]
  },
  {
   "cell_type": "code",
   "execution_count": 26,
   "id": "df9a2103-5629-455e-8333-50076866e981",
   "metadata": {},
   "outputs": [],
   "source": [
    "del(shopping_list[4])"
   ]
  },
  {
   "cell_type": "markdown",
   "id": "f08fde57-9ac7-4018-a265-09fd01585b20",
   "metadata": {},
   "source": [
    "#### Task-10 Print the shopping list"
   ]
  },
  {
   "cell_type": "code",
   "execution_count": 27,
   "id": "b4aa7673-de58-496f-b78b-63ed9c5f9719",
   "metadata": {},
   "outputs": [
    {
     "data": {
      "text/plain": [
       "['Watch', 'Laptop', 'Shoes', 'Notebook', 'Football']"
      ]
     },
     "execution_count": 27,
     "metadata": {},
     "output_type": "execute_result"
    }
   ],
   "source": [
    "shopping_list"
   ]
  },
  {
   "cell_type": "code",
   "execution_count": null,
   "id": "35505e21-d3a4-4a15-a224-b1ed014e49c1",
   "metadata": {},
   "outputs": [],
   "source": []
  }
 ],
 "metadata": {
  "kernelspec": {
   "display_name": "Python 3 (ipykernel)",
   "language": "python",
   "name": "python3"
  },
  "language_info": {
   "codemirror_mode": {
    "name": "ipython",
    "version": 3
   },
   "file_extension": ".py",
   "mimetype": "text/x-python",
   "name": "python",
   "nbconvert_exporter": "python",
   "pygments_lexer": "ipython3",
   "version": "3.11.1"
  }
 },
 "nbformat": 4,
 "nbformat_minor": 5
}
