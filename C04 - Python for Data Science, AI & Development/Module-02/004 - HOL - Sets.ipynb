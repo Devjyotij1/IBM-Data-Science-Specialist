{
 "cells": [
  {
   "cell_type": "markdown",
   "id": "266e6afc-326e-4f20-a381-201459d65772",
   "metadata": {},
   "source": [
    "### Quiz on Sets"
   ]
  },
  {
   "cell_type": "markdown",
   "id": "4a0b3abb-3629-45a0-9f8a-e70635f5409f",
   "metadata": {},
   "source": [
    "<b>Q1 :</b> Convert the list <b>['rap','house','electronic music', 'rap']</b> to a set:"
   ]
  },
  {
   "cell_type": "code",
   "execution_count": 1,
   "id": "83b35335-3cb9-43d2-9e70-618876cbf4a8",
   "metadata": {},
   "outputs": [
    {
     "data": {
      "text/plain": [
       "{'electronic music', 'house', 'rap'}"
      ]
     },
     "execution_count": 1,
     "metadata": {},
     "output_type": "execute_result"
    }
   ],
   "source": [
    "l = ['rap','house','electronic music', 'rap']\n",
    "s = set(l)\n",
    "s"
   ]
  },
  {
   "cell_type": "markdown",
   "id": "8abe7fbc-ba17-431d-91f9-2abf770df0c5",
   "metadata": {},
   "source": [
    "<b>Q2 :</b> Consider the list <b>A = [1, 2, 2, 1]</b> and set <b>B = set([1, 2, 2, 1])</b>, does <b>sum(A)</b> == <b>sum(B)</b>?"
   ]
  },
  {
   "cell_type": "code",
   "execution_count": 3,
   "id": "21b5ab8c-2004-48bb-b3ae-6bdd3c835a85",
   "metadata": {},
   "outputs": [
    {
     "data": {
      "text/plain": [
       "False"
      ]
     },
     "execution_count": 3,
     "metadata": {},
     "output_type": "execute_result"
    }
   ],
   "source": [
    "A = [1, 2, 2, 1]\n",
    "B = set([1, 2, 2, 1])\n",
    "sum(A) == sum(B)"
   ]
  },
  {
   "cell_type": "markdown",
   "id": "fc44533d-3ee5-4f53-b0eb-27f5700cc1ad",
   "metadata": {},
   "source": [
    "<b>Q3 :</b> Create a new set <b>album_set3</b> that is the union of <b>album_set1</b> and <b>album_set2</b>:"
   ]
  },
  {
   "cell_type": "code",
   "execution_count": 4,
   "id": "8247f146-39c7-445d-b281-b2895c740c6e",
   "metadata": {},
   "outputs": [
    {
     "data": {
      "text/plain": [
       "{'AC/DC', 'Back in Black', 'The Dark Side of the Moon', 'Thriller'}"
      ]
     },
     "execution_count": 4,
     "metadata": {},
     "output_type": "execute_result"
    }
   ],
   "source": [
    "album_set1 = set([\"Thriller\", 'AC/DC', 'Back in Black'])\n",
    "album_set2 = set([ \"AC/DC\", \"Back in Black\", \"The Dark Side of the Moon\"])\n",
    "\n",
    "album_set3 = album_set1.union(album_set2)\n",
    "album_set3"
   ]
  },
  {
   "cell_type": "markdown",
   "id": "7ae758a4-3ce2-4c77-8d17-f026734173bd",
   "metadata": {},
   "source": [
    "<b>Q4 :</b> Find out if <b>album_set1</b> is a subset of <b>album_set3</b>:"
   ]
  },
  {
   "cell_type": "code",
   "execution_count": 6,
   "id": "115d09f8-1392-4cb5-9ad2-65d36a1262bc",
   "metadata": {},
   "outputs": [
    {
     "data": {
      "text/plain": [
       "True"
      ]
     },
     "execution_count": 6,
     "metadata": {},
     "output_type": "execute_result"
    }
   ],
   "source": [
    "album_set1.issubset(album_set3)"
   ]
  }
 ],
 "metadata": {
  "kernelspec": {
   "display_name": "Python 3 (ipykernel)",
   "language": "python",
   "name": "python3"
  },
  "language_info": {
   "codemirror_mode": {
    "name": "ipython",
    "version": 3
   },
   "file_extension": ".py",
   "mimetype": "text/x-python",
   "name": "python",
   "nbconvert_exporter": "python",
   "pygments_lexer": "ipython3",
   "version": "3.11.1"
  }
 },
 "nbformat": 4,
 "nbformat_minor": 5
}
