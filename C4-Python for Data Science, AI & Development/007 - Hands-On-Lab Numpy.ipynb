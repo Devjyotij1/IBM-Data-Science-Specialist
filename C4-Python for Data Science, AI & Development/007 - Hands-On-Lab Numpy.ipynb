{
 "cells": [
  {
   "cell_type": "code",
   "execution_count": 1,
   "id": "42b498b0-e3fb-4752-b0c6-0a86021c7617",
   "metadata": {},
   "outputs": [],
   "source": [
    "import numpy as np"
   ]
  },
  {
   "cell_type": "code",
   "execution_count": 4,
   "id": "0fe5c14e-8604-4ed6-9b74-bfffd4e32cd6",
   "metadata": {},
   "outputs": [
    {
     "data": {
      "text/plain": [
       "array([0, 1, 2, 3, 4])"
      ]
     },
     "execution_count": 4,
     "metadata": {},
     "output_type": "execute_result"
    }
   ],
   "source": [
    "# Create a numpy array\n",
    "a = [0,1,2,3,4]\n",
    "arr = np.array(a)\n",
    "arr"
   ]
  },
  {
   "cell_type": "code",
   "execution_count": 6,
   "id": "5105e31c-8ce4-4210-9b99-28cb32ca8872",
   "metadata": {},
   "outputs": [
    {
     "name": "stdout",
     "output_type": "stream",
     "text": [
      "Element 1 :  0\n",
      "Element 2 :  1\n",
      "Element 3 :  2\n",
      "Element 4 :  3\n",
      "Element 5 :  4\n"
     ]
    }
   ],
   "source": [
    "# Print each element in one print statement each. Dont use loop\n",
    "print(\"Element 1 : \",arr[0])\n",
    "print(\"Element 2 : \",arr[1])\n",
    "print(\"Element 3 : \",arr[2])\n",
    "print(\"Element 4 : \",arr[3])\n",
    "print(\"Element 5 : \",arr[4])"
   ]
  },
  {
   "cell_type": "code",
   "execution_count": 7,
   "id": "0a6e8ade-293d-4c7c-92f7-a731fc4b5e88",
   "metadata": {},
   "outputs": [
    {
     "name": "stdout",
     "output_type": "stream",
     "text": [
      "1.26.3\n"
     ]
    }
   ],
   "source": [
    "# Checking NumPy Version\n",
    "print(np.__version__)"
   ]
  },
  {
   "cell_type": "code",
   "execution_count": 8,
   "id": "2a12671d-1e8e-44ea-8d81-f615f2b6746a",
   "metadata": {},
   "outputs": [
    {
     "data": {
      "text/plain": [
       "numpy.ndarray"
      ]
     },
     "execution_count": 8,
     "metadata": {},
     "output_type": "execute_result"
    }
   ],
   "source": [
    "# Check the type of the array\n",
    "type(arr)"
   ]
  },
  {
   "cell_type": "code",
   "execution_count": 9,
   "id": "846e2851-2e5a-4c55-b367-03af8848ebed",
   "metadata": {},
   "outputs": [
    {
     "data": {
      "text/plain": [
       "dtype('int32')"
      ]
     },
     "execution_count": 9,
     "metadata": {},
     "output_type": "execute_result"
    }
   ],
   "source": [
    "# Check the type of the values stored in numpy array\n",
    "arr.dtype"
   ]
  },
  {
   "cell_type": "markdown",
   "id": "733c5d69-00cf-4027-b690-a30ca26b7f6b",
   "metadata": {},
   "source": [
    "<Center>\n",
    "\n",
    "### Try yourself\n",
    "</Center>"
   ]
  },
  {
   "cell_type": "markdown",
   "id": "29adadc7-b636-46b9-ac00-c40a9e0382e6",
   "metadata": {},
   "source": [
    "Check the type of the array and Value type for the given array **c**"
   ]
  },
  {
   "cell_type": "code",
   "execution_count": 11,
   "id": "4a1d1cee-709f-4b8c-9001-fb5866b12756",
   "metadata": {},
   "outputs": [
    {
     "name": "stdout",
     "output_type": "stream",
     "text": [
      "<class 'numpy.ndarray'>\n",
      "float64\n"
     ]
    }
   ],
   "source": [
    "b = np.array([3.1, 11.02, 6.2, 213.2, 5.2])\n",
    "\n",
    "# Check type of the array\n",
    "print(type(b))\n",
    "\n",
    "# Check type of the values inside the array.\n",
    "print(b.dtype)"
   ]
  },
  {
   "cell_type": "markdown",
   "id": "e642b653-71e1-4e4a-8248-70f391ca85e1",
   "metadata": {},
   "source": [
    "### Assign value"
   ]
  },
  {
   "cell_type": "markdown",
   "id": "82a14672-46f7-42b3-80cb-223d921546b8",
   "metadata": {},
   "source": [
    "We can change the value of the array. Consider the array <code>c</code>:"
   ]
  },
  {
   "cell_type": "code",
   "execution_count": 12,
   "id": "c697afa0-efb9-4ca1-834d-d87fd2491a52",
   "metadata": {},
   "outputs": [
    {
     "data": {
      "text/plain": [
       "array([20,  1,  2,  3,  4])"
      ]
     },
     "execution_count": 12,
     "metadata": {},
     "output_type": "execute_result"
    }
   ],
   "source": [
    "# Create numpy array\n",
    "\n",
    "c = np.array([20, 1, 2, 3, 4])\n",
    "c"
   ]
  },
  {
   "cell_type": "code",
   "execution_count": 15,
   "id": "07d913a9-be53-4e4c-bb16-6621f1fafbe9",
   "metadata": {},
   "outputs": [
    {
     "data": {
      "text/plain": [
       "array([100,   1,   2,   3,   4])"
      ]
     },
     "execution_count": 15,
     "metadata": {},
     "output_type": "execute_result"
    }
   ],
   "source": [
    "# Assign the first element to 100\n",
    "c[0] = 100\n",
    "c\n"
   ]
  },
  {
   "cell_type": "code",
   "execution_count": 16,
   "id": "72f080f5-31e0-4364-98d1-130880c17494",
   "metadata": {},
   "outputs": [
    {
     "data": {
      "text/plain": [
       "array([100,   1,   2,   3,   0])"
      ]
     },
     "execution_count": 16,
     "metadata": {},
     "output_type": "execute_result"
    }
   ],
   "source": [
    "# Assign the 5th element to 0\n",
    "c[4] = 0\n",
    "c"
   ]
  },
  {
   "cell_type": "markdown",
   "id": "ea0c793f-f6e6-4b69-8364-96bbbdee4eee",
   "metadata": {},
   "source": [
    "## Try yourself\n",
    "\n",
    "Assign the value 20 for the second element in the given array.\n"
   ]
  },
  {
   "cell_type": "code",
   "execution_count": 18,
   "id": "2a2f9df2-1acf-4e76-8a07-ef26eb47bfd2",
   "metadata": {},
   "outputs": [
    {
     "data": {
      "text/plain": [
       "array([10, 20, 30, 40, 50])"
      ]
     },
     "execution_count": 18,
     "metadata": {},
     "output_type": "execute_result"
    }
   ],
   "source": [
    "a = np.array([10, 2, 30, 40,50])\n",
    "\n",
    "# Enter your code here\n",
    "a[1] = 20\n",
    "a"
   ]
  },
  {
   "cell_type": "markdown",
   "id": "6fc2506f-238f-4447-a7ae-667980a7b52b",
   "metadata": {},
   "source": [
    "<center>\n",
    "\n",
    "## Slicing\n",
    "</center>"
   ]
  },
  {
   "cell_type": "markdown",
   "id": "22c808a8-c81f-42ee-a119-e6f3851eaf19",
   "metadata": {},
   "source": [
    "Like lists, we can slice the numpy array. Slicing in python means taking the elements from the given index to another given index.\n",
    "\n",
    "We pass slice like this: [start:end].The element at end index is not being included in the output.\n",
    "\n",
    "We can select the elements from 1 to 3 and assign it to a new numpy array <code>d</code> as follows:\n"
   ]
  },
  {
   "cell_type": "code",
   "execution_count": 21,
   "id": "f236e05b-adff-4fcb-827d-ed24028b3211",
   "metadata": {},
   "outputs": [
    {
     "name": "stdout",
     "output_type": "stream",
     "text": [
      "[100   1   2   3   0]\n",
      "[1 2 3]\n"
     ]
    }
   ],
   "source": [
    "# Slicing the numpy array\n",
    "print(c)\n",
    "d = c[1:4]\n",
    "print(d)"
   ]
  },
  {
   "cell_type": "code",
   "execution_count": 23,
   "id": "a029b7fb-752b-4084-b089-2515d602d31c",
   "metadata": {},
   "outputs": [
    {
     "data": {
      "text/plain": [
       "array([100,   1,   2, 300, 400])"
      ]
     },
     "execution_count": 23,
     "metadata": {},
     "output_type": "execute_result"
    }
   ],
   "source": [
    "# Set the fourth element and fifth element to 300 and 400\n",
    "c[3:5] = 300,400\n",
    "c"
   ]
  },
  {
   "cell_type": "markdown",
   "id": "7028917c-2f90-4728-8ec3-37d6889ddaf7",
   "metadata": {},
   "source": [
    "We can also define the steps in slicing, like this: [start:end:step].\n"
   ]
  },
  {
   "cell_type": "code",
   "execution_count": 24,
   "id": "689712ae-4b9a-4b28-b081-46573b46d421",
   "metadata": {},
   "outputs": [
    {
     "name": "stdout",
     "output_type": "stream",
     "text": [
      "[2 4]\n"
     ]
    }
   ],
   "source": [
    "arr = np.array([1, 2, 3, 4, 5, 6, 7])\n",
    "\n",
    "print(arr[1:5:2])"
   ]
  },
  {
   "cell_type": "markdown",
   "id": "d2f95593-b902-42f4-99fc-728ef519ad9e",
   "metadata": {},
   "source": [
    "### Try it yourself"
   ]
  },
  {
   "cell_type": "code",
   "execution_count": 25,
   "id": "efdbb79c-333a-4ddd-9b3d-5831eb327237",
   "metadata": {},
   "outputs": [
    {
     "name": "stdout",
     "output_type": "stream",
     "text": [
      "[2 4 6 8]\n"
     ]
    }
   ],
   "source": [
    "# Print the even elements in the given array.\n",
    "arr = np.array([1, 2, 3, 4, 5, 6, 7, 8])\n",
    "print(arr[1::2])"
   ]
  },
  {
   "cell_type": "code",
   "execution_count": 26,
   "id": "06de56a9-9212-4930-8632-03b8de048c0d",
   "metadata": {},
   "outputs": [
    {
     "name": "stdout",
     "output_type": "stream",
     "text": [
      "7\n"
     ]
    }
   ],
   "source": [
    "# Find the size ,dimension and shape for the given array b\n",
    "b = np.array([10, 20, 30, 40, 50, 60, 70])\n",
    "\n",
    "# Enter your code here\n",
    "print(b.size)"
   ]
  },
  {
   "cell_type": "markdown",
   "id": "a0640221-b2b6-4f08-9b6c-2ff0d5e5979d",
   "metadata": {},
   "source": [
    "#### Numpy Statistical Functions"
   ]
  },
  {
   "cell_type": "code",
   "execution_count": 27,
   "id": "3a0223c6-2e41-4be5-ae92-711d71e674cd",
   "metadata": {},
   "outputs": [],
   "source": [
    "# Create a numpy array\n",
    "a = np.array([1, -1, 1, -1])"
   ]
  },
  {
   "cell_type": "code",
   "execution_count": 35,
   "id": "6392a900-012b-43ef-b71a-3f4074621f33",
   "metadata": {},
   "outputs": [
    {
     "data": {
      "text/plain": [
       "0.0"
      ]
     },
     "execution_count": 35,
     "metadata": {},
     "output_type": "execute_result"
    }
   ],
   "source": [
    "# Get the mean of numpy array\n",
    "a.mean()"
   ]
  },
  {
   "cell_type": "code",
   "execution_count": 38,
   "id": "9cc72d2c-66c1-4923-8d6d-7ba524fb5f21",
   "metadata": {},
   "outputs": [
    {
     "data": {
      "text/plain": [
       "1.0"
      ]
     },
     "execution_count": 38,
     "metadata": {},
     "output_type": "execute_result"
    }
   ],
   "source": [
    "# Get the standard deviation of numpy array\n",
    "a.std()"
   ]
  },
  {
   "cell_type": "code",
   "execution_count": 39,
   "id": "ab8ec91d-73df-48ad-a4ff-ad66476c7f80",
   "metadata": {},
   "outputs": [],
   "source": [
    "# Create a numpy array\n",
    "\n",
    "b = np.array([-1, 2, 3, 4, 5])"
   ]
  },
  {
   "cell_type": "code",
   "execution_count": 40,
   "id": "bd1036a6-55d7-4c6f-9e71-45f5b92739b9",
   "metadata": {},
   "outputs": [
    {
     "data": {
      "text/plain": [
       "5"
      ]
     },
     "execution_count": 40,
     "metadata": {},
     "output_type": "execute_result"
    }
   ],
   "source": [
    "# Get the biggest value in the numpy array\n",
    "b.max()"
   ]
  },
  {
   "cell_type": "code",
   "execution_count": 42,
   "id": "1022e0e9-a5b7-43be-86d6-eda0246b0511",
   "metadata": {},
   "outputs": [
    {
     "data": {
      "text/plain": [
       "-1"
      ]
     },
     "execution_count": 42,
     "metadata": {},
     "output_type": "execute_result"
    }
   ],
   "source": [
    "# Get the smallest value in the numpy array\n",
    "b.min()"
   ]
  },
  {
   "cell_type": "code",
   "execution_count": 43,
   "id": "72e7285b-69db-497b-b86c-553f34674ffa",
   "metadata": {},
   "outputs": [
    {
     "data": {
      "text/plain": [
       "830"
      ]
     },
     "execution_count": 43,
     "metadata": {},
     "output_type": "execute_result"
    }
   ],
   "source": [
    "# Find the sum of maximum and minimum value in the given numpy array\n",
    "c = np.array([-10, 201, 43, 94, 502])\n",
    "\n",
    "# Enter your code here\n",
    "c.sum()"
   ]
  },
  {
   "cell_type": "code",
   "execution_count": 34,
   "id": "bcaf5bf0-881e-4752-b2cb-2236268c4e01",
   "metadata": {},
   "outputs": [
    {
     "data": {
      "text/plain": [
       "array([1, 0])"
      ]
     },
     "execution_count": 34,
     "metadata": {},
     "output_type": "execute_result"
    }
   ],
   "source": [
    "u = np.array([1, 0])\n",
    "u"
   ]
  },
  {
   "cell_type": "code",
   "execution_count": 44,
   "id": "85f4f2fd-c3b7-4c65-8ebf-0db4bf3530f4",
   "metadata": {},
   "outputs": [
    {
     "data": {
      "text/plain": [
       "array([0, 1])"
      ]
     },
     "execution_count": 44,
     "metadata": {},
     "output_type": "execute_result"
    }
   ],
   "source": [
    "v = np.array([0, 1])\n",
    "v"
   ]
  },
  {
   "cell_type": "code",
   "execution_count": 46,
   "id": "ef76e65c-91e3-4f98-aa08-90ad1f56f0c1",
   "metadata": {},
   "outputs": [
    {
     "data": {
      "text/plain": [
       "array([1, 1])"
      ]
     },
     "execution_count": 46,
     "metadata": {},
     "output_type": "execute_result"
    }
   ],
   "source": [
    "# Numpy Array Addition\n",
    "z = u+v\n",
    "z"
   ]
  },
  {
   "cell_type": "code",
   "execution_count": 48,
   "id": "f8fb833e-04c1-4d56-b771-6ccb2b3bef52",
   "metadata": {},
   "outputs": [
    {
     "data": {
      "text/plain": [
       "array([1, 1])"
      ]
     },
     "execution_count": 48,
     "metadata": {},
     "output_type": "execute_result"
    }
   ],
   "source": [
    "z1 = np.add(u,v)\n",
    "z1"
   ]
  },
  {
   "cell_type": "code",
   "execution_count": 51,
   "id": "bbfa8ebf-400f-4e55-8fac-da77fdc26052",
   "metadata": {},
   "outputs": [],
   "source": [
    "# Plotting functions\n",
    "\n",
    "import time \n",
    "import sys\n",
    "import numpy as np \n",
    "\n",
    "import matplotlib.pyplot as plt\n",
    "\n",
    "def Plotvec1(u, z, v):\n",
    "    \n",
    "    ax = plt.axes() # to generate the full window axes\n",
    "    ax.arrow(0, 0, *u, head_width=0.05, color='r', head_length=0.1)# Add an arrow to the  U Axes with arrow head width 0.05, color red and arrow head length 0.1\n",
    "    plt.text(*(u + 0.1), 'u')#Adds the text u to the Axes \n",
    "    \n",
    "    ax.arrow(0, 0, *v, head_width=0.05, color='b', head_length=0.1)# Add an arrow to the  v Axes with arrow head width 0.05, color red and arrow head length 0.1\n",
    "    plt.text(*(v + 0.1), 'v')#Adds the text v to the Axes \n",
    "    \n",
    "    ax.arrow(0, 0, *z, head_width=0.05, head_length=0.1)\n",
    "    plt.text(*(z + 0.1), 'z')#Adds the text z to the Axes \n",
    "    plt.ylim(-2, 2)#set the ylim to bottom(-2), top(2)\n",
    "    plt.xlim(-2, 2)#set the xlim to left(-2), right(2)\n"
   ]
  },
  {
   "cell_type": "code",
   "execution_count": 53,
   "id": "677d83f7-9cd6-47e4-9521-8277831265e9",
   "metadata": {},
   "outputs": [
    {
     "data": {
      "image/png": "[encoded data removed]",
      "text/plain": [
       "<Figure size 640x480 with 1 Axes>"
      ]
     },
     "metadata": {},
     "output_type": "display_data"
    }
   ],
   "source": [
    "Plotvec1(u, z, v)"
   ]
  },
  {
   "cell_type": "markdown",
   "id": "d069cc29-4c44-4b27-937b-664ea65b81fb",
   "metadata": {},
   "source": [
    "<center>\n",
    "\n",
    "__________________________________________________________\n",
    "</center>"
   ]
  },
  {
   "cell_type": "markdown",
   "id": "28aa40bb-f376-4b1d-87fe-9bbcf1fdd799",
   "metadata": {},
   "source": [
    "<center>\n",
    "\n",
    "## Try it yourself\n",
    "__________________________________________________________\n",
    "</center>"
   ]
  },
  {
   "cell_type": "code",
   "execution_count": 59,
   "id": "511d8193-3e11-4c08-9276-5e9cd7dd0d08",
   "metadata": {},
   "outputs": [
    {
     "data": {
      "text/plain": [
       "array([30, 32, 34, 36, 38, 40])"
      ]
     },
     "execution_count": 59,
     "metadata": {},
     "output_type": "execute_result"
    }
   ],
   "source": [
    "# Perform addition operation on the given numpy array arr1 and arr2:\n",
    "arr1 = np.array([10, 11, 12, 13, 14, 15])\n",
    "arr2 = np.array([20, 21, 22, 23, 24, 25])\n",
    "\n",
    "# Enter your code here\n",
    "arr3 = np.add(arr1,arr2)\n",
    "arr3"
   ]
  },
  {
   "cell_type": "code",
   "execution_count": 63,
   "id": "08d6a613-0073-445b-8925-0adbc91c6395",
   "metadata": {},
   "outputs": [
    {
     "data": {
      "text/plain": [
       "array([ 5, 10, 15])"
      ]
     },
     "execution_count": 63,
     "metadata": {},
     "output_type": "execute_result"
    }
   ],
   "source": [
    "# Array Subtraction\n",
    "a = np.array([10, 20, 30])\n",
    "b = np.array([5, 10, 15])\n",
    "\n",
    "# We can subtract the two arrays and assign it to c:\n",
    "c = np.subtract(a,b)\n",
    "c"
   ]
  },
  {
   "cell_type": "code",
   "execution_count": 57,
   "id": "595fca64-2a41-48c3-bbeb-8a2fd236c89b",
   "metadata": {},
   "outputs": [],
   "source": [
    "# Perform subtraction operation on the given numpy array arr1 and arr2:\n",
    "arr1 = np.array([10, 20, 30, 40, 50, 60])\n",
    "arr2 = np.array([20, 21, 22, 23, 24, 25])\n",
    "\n",
    "# Enter your code here\n"
   ]
  },
  {
   "cell_type": "code",
   "execution_count": 66,
   "id": "89f339b3-29eb-46e8-b690-37ef9ed5ed23",
   "metadata": {},
   "outputs": [
    {
     "data": {
      "text/plain": [
       "array([5. , 4.8, 4.6, 4.4, 4.2, 4. ])"
      ]
     },
     "execution_count": 66,
     "metadata": {},
     "output_type": "execute_result"
    }
   ],
   "source": [
    "# Make a numpy array within [5, 4] and 6 elements\n",
    "arr = np.linspace(5,4,num=6)\n",
    "arr"
   ]
  },
  {
   "cell_type": "code",
   "execution_count": 67,
   "id": "07202302-038b-402c-b786-73216972876a",
   "metadata": {},
   "outputs": [
    {
     "data": {
      "text/plain": [
       "[<matplotlib.lines.Line2D at 0x191538a11d0>]"
      ]
     },
     "execution_count": 67,
     "metadata": {},
     "output_type": "execute_result"
    },
    {
     "data": {
      "image/png": "[encoded data removed]",
      "text/plain": [
       "<Figure size 640x480 with 1 Axes>"
      ]
     },
     "metadata": {},
     "output_type": "display_data"
    }
   ],
   "source": [
    "plt.plot(arr)"
   ]
  },
  {
   "cell_type": "code",
   "execution_count": null,
   "id": "f9689aa5-6f7a-439e-bce3-86974370d57f",
   "metadata": {},
   "outputs": [],
   "source": []
  }
 ],
 "metadata": {
  "kernelspec": {
   "display_name": "Python 3 (ipykernel)",
   "language": "python",
   "name": "python3"
  },
  "language_info": {
   "codemirror_mode": {
    "name": "ipython",
    "version": 3
   },
   "file_extension": ".py",
   "mimetype": "text/x-python",
   "name": "python",
   "nbconvert_exporter": "python",
   "pygments_lexer": "ipython3",
   "version": "3.11.1"
  }
 },
 "nbformat": 4,
 "nbformat_minor": 5
}
