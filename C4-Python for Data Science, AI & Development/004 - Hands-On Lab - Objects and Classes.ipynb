{
 "cells": [
  {
   "cell_type": "markdown",
   "id": "5ef435df-77d7-4db9-a9fb-356d0788ea9d",
   "metadata": {},
   "source": [
    "<center>\n",
    "\n",
    "# Class : Circle\n",
    "    \n",
    "</center>"
   ]
  },
  {
   "cell_type": "code",
   "execution_count": 6,
   "id": "0ebc4988-cde0-4be0-a820-f5e4ecabc181",
   "metadata": {},
   "outputs": [],
   "source": [
    "# Import necessary libraries\n",
    "\n",
    "import matplotlib.pyplot as plt\n",
    "%matplotlib inline\n",
    "\n",
    "# Define the class \n",
    "class Circle(object):\n",
    "\n",
    "    # Constructor \n",
    "    def __init__(self, radious = 2, color = 'yellow'):\n",
    "        self.radious = radious\n",
    "        self.color = color\n",
    "\n",
    "    # Methods\n",
    "    # Add radious\n",
    "    def add_radious(self, r) :\n",
    "        self.radious = self.radious + r\n",
    "        return self.radious\n",
    "\n",
    "    # Draw circle \n",
    "    def draw_circle(self) :\n",
    "        plt.gca().add_patch(plt.Circle((0,0), radius = self.radious, fc = self.color))\n",
    "        plt.axis('scaled')\n",
    "        plt.show()"
   ]
  },
  {
   "cell_type": "markdown",
   "id": "eca71039-3be7-49f1-a832-624a63529f9e",
   "metadata": {},
   "source": [
    "##### Create instances of class circle."
   ]
  },
  {
   "cell_type": "code",
   "execution_count": 7,
   "id": "3b811d4c-cd9f-46a4-8759-1d9254b637a7",
   "metadata": {},
   "outputs": [],
   "source": [
    "RedCircle = Circle()"
   ]
  },
  {
   "cell_type": "code",
   "execution_count": 14,
   "id": "a795daee-3d8b-4258-b50b-775990c49679",
   "metadata": {},
   "outputs": [],
   "source": [
    "RedCircle.add_radious(20)\n",
    "RedCircle.color = 'red'"
   ]
  },
  {
   "cell_type": "code",
   "execution_count": 15,
   "id": "8f47c587-f6e9-45c7-8b4f-10d3890be502",
   "metadata": {},
   "outputs": [
    {
     "data": {
      "image/png": "[encoded data removed]",
      "text/plain": [
       "<Figure size 640x480 with 1 Axes>"
      ]
     },
     "metadata": {},
     "output_type": "display_data"
    }
   ],
   "source": [
    "RedCircle.draw_circle()"
   ]
  },
  {
   "cell_type": "markdown",
   "id": "8c8ecca3-2ae2-4552-b0d3-47a7fcaecf97",
   "metadata": {},
   "source": [
    "<center>\n",
    "    \n",
    "# Class : Rectangle\n",
    "\n",
    "</center>\n"
   ]
  },
  {
   "cell_type": "code",
   "execution_count": 18,
   "id": "bb1a362a-899a-4a99-8701-d2fe448de3ac",
   "metadata": {},
   "outputs": [],
   "source": [
    "# Define Class (Attr : Height, Width and Color)\n",
    "\n",
    "class rectangle(object):\n",
    "\n",
    "    # Constructor \n",
    "    def __init__(self, h = 5,w = 10 ,c='y'):\n",
    "        self.h = h\n",
    "        self.w = w\n",
    "        self.c = c\n",
    "\n",
    "    # Draw method \n",
    "    def drawRectangle(self):\n",
    "        plt.gca().add_patch(plt.Rectangle((0, 0), self.w, self.h ,fc=self.c))\n",
    "        plt.axis('scaled')\n",
    "        plt.show()"
   ]
  },
  {
   "cell_type": "code",
   "execution_count": 19,
   "id": "28003fdc-5370-4e3d-9b82-3456a44cfc83",
   "metadata": {},
   "outputs": [],
   "source": [
    "# Let’s create the object SkinnyBlueRectangle of type Rectangle. Its width will be 2 and height will be 3, and the color will be blue:\n",
    "SkinnyBlueRectangle = rectangle(3,2,'b')\n",
    "\n"
   ]
  },
  {
   "cell_type": "code",
   "execution_count": 20,
   "id": "49b303a7-beb0-4919-a35e-f2d012d5be8d",
   "metadata": {},
   "outputs": [
    {
     "data": {
      "text/plain": [
       "3"
      ]
     },
     "execution_count": 20,
     "metadata": {},
     "output_type": "execute_result"
    }
   ],
   "source": [
    "# Print the object attribute height\n",
    "SkinnyBlueRectangle.h"
   ]
  },
  {
   "cell_type": "code",
   "execution_count": 21,
   "id": "e9fd3459-199d-4424-ad88-239ecce11264",
   "metadata": {},
   "outputs": [
    {
     "data": {
      "text/plain": [
       "2"
      ]
     },
     "execution_count": 21,
     "metadata": {},
     "output_type": "execute_result"
    }
   ],
   "source": [
    "# Print the object attribute width\n",
    "SkinnyBlueRectangle.w"
   ]
  },
  {
   "cell_type": "code",
   "execution_count": 22,
   "id": "26778aa4-f0fd-47f6-b561-0fc5d3065bca",
   "metadata": {},
   "outputs": [
    {
     "data": {
      "text/plain": [
       "'b'"
      ]
     },
     "execution_count": 22,
     "metadata": {},
     "output_type": "execute_result"
    }
   ],
   "source": [
    "# Print the object attribute color\n",
    "SkinnyBlueRectangle.c"
   ]
  },
  {
   "cell_type": "code",
   "execution_count": 23,
   "id": "9a2b49ff-4cf1-4457-b750-1b55ff2df6cc",
   "metadata": {},
   "outputs": [
    {
     "data": {
      "image/png": "[encoded data removed]",
      "text/plain": [
       "<Figure size 640x480 with 1 Axes>"
      ]
     },
     "metadata": {},
     "output_type": "display_data"
    }
   ],
   "source": [
    "# Use the drawRectangle method to draw the shape\n",
    "SkinnyBlueRectangle.drawRectangle()"
   ]
  },
  {
   "cell_type": "code",
   "execution_count": 24,
   "id": "c6c6cbde-e5ba-46a0-a2ba-6587cc81df20",
   "metadata": {},
   "outputs": [],
   "source": [
    "# Create a new object rectangle (h = 5, w = 20, c=Yellow)\n",
    "YellowRectangle = rectangle(5,20,'y')"
   ]
  },
  {
   "cell_type": "code",
   "execution_count": 25,
   "id": "d2b61f7a-2e1a-43b0-95c2-6feafefdb69b",
   "metadata": {},
   "outputs": [
    {
     "data": {
      "text/plain": [
       "5"
      ]
     },
     "execution_count": 25,
     "metadata": {},
     "output_type": "execute_result"
    }
   ],
   "source": [
    "# Print the object attribute height\n",
    "YellowRectangle.h"
   ]
  },
  {
   "cell_type": "code",
   "execution_count": 26,
   "id": "86fdf0dc-6b35-4d8b-b25d-b3d41d9303d4",
   "metadata": {},
   "outputs": [
    {
     "data": {
      "text/plain": [
       "20"
      ]
     },
     "execution_count": 26,
     "metadata": {},
     "output_type": "execute_result"
    }
   ],
   "source": [
    "# Print the object attribute width\n",
    "YellowRectangle.w"
   ]
  },
  {
   "cell_type": "code",
   "execution_count": 27,
   "id": "1cd5821b-08fb-42c3-b7cb-6b1d3760653c",
   "metadata": {},
   "outputs": [
    {
     "data": {
      "text/plain": [
       "'y'"
      ]
     },
     "execution_count": 27,
     "metadata": {},
     "output_type": "execute_result"
    }
   ],
   "source": [
    "# Print the object attribute Color\n",
    "YellowRectangle.c"
   ]
  },
  {
   "cell_type": "code",
   "execution_count": 28,
   "id": "06dd278d-9b0c-4aef-9fc2-20c7882d1f18",
   "metadata": {},
   "outputs": [
    {
     "data": {
      "image/png": "[encoded data removed]",
      "text/plain": [
       "<Figure size 640x480 with 1 Axes>"
      ]
     },
     "metadata": {},
     "output_type": "display_data"
    }
   ],
   "source": [
    "# Use the drawRectangle method to draw the shape\n",
    "YellowRectangle.drawRectangle()"
   ]
  },
  {
   "cell_type": "markdown",
   "id": "21527c49-1543-4b86-95b7-e248eef59557",
   "metadata": {},
   "source": [
    "<center>\n",
    "    \n",
    "# Scenario: Car dealership's inventory management system\n",
    "\n",
    "</center>\n"
   ]
  },
  {
   "cell_type": "markdown",
   "id": "497b4a83-6c5d-472a-8e6e-eb064ed0354c",
   "metadata": {},
   "source": [
    "<center>\n",
    "\n",
    "### TASKS\n",
    "\n",
    "</center>\n",
    "\n",
    "* Task-1. You are tasked with creating a Python program to represent vehicles using a class. Each car should have attributes for maximum speed and mileage.\n",
    "* Task-2. Update the class with the default color for all vehicles,\" white\".\n",
    "* Task-3. Additionally, you need to create methods in the Vehicle class to assign seating capacity to a vehicle.\n",
    "* Task-4. Create a method to display all the properties of an object of the class.\n",
    "* Task-5. Additionally, you need to create two objects of the Vehicle class object that should have a max speed of 200kmph and mileage of 20kmpl with five seating capacities, and another car object should have a max speed of 180kmph and mileage of 25kmpl with four seating capacities."
   ]
  },
  {
   "cell_type": "code",
   "execution_count": 30,
   "id": "2d60c759-faed-4a2d-b27f-a3815c9fdbaa",
   "metadata": {},
   "outputs": [],
   "source": [
    "# Define Car Class\n",
    "\n",
    "#Task 1 \n",
    "class Car(object) :\n",
    "\n",
    "    # Task 2\n",
    "    color = 'White'\n",
    "\n",
    "    #Task 1\n",
    "    def __init__(self, maxSpeed = 150, milage = 15):\n",
    "        self.maxSpeed = maxSpeed\n",
    "        self.milage = milage\n",
    "\n",
    "        #Task 3\n",
    "        self.sc = None\n",
    "\n",
    "    # Task 3\n",
    "    def seatingCapacity(self,sc = 4):\n",
    "        self.sc = sc\n",
    "\n",
    "    # Task 4\n",
    "    def displayProperties(self) :\n",
    "        print(\"!!! Properties of the Car !!!\")\n",
    "        print(f\"Color of the car : {self.color}\")\n",
    "        print(f\"Milage of the car : {self.milage}\")\n",
    "        print(f\"Maximum Speed of the car : {self.maxSpeed}\")\n",
    "        print(f\"Seat Capacity of the car : {self.sc}\")"
   ]
  },
  {
   "cell_type": "code",
   "execution_count": 31,
   "id": "357fc8d0-79eb-4cdb-aab7-63b35ecf45de",
   "metadata": {},
   "outputs": [],
   "source": [
    "marutiCar = Car()"
   ]
  },
  {
   "cell_type": "code",
   "execution_count": 32,
   "id": "450247a5-d1f8-40e2-a85a-9849d39954c7",
   "metadata": {},
   "outputs": [
    {
     "name": "stdout",
     "output_type": "stream",
     "text": [
      "!!! Properties of the Car !!!\n",
      "Color of the car : White\n",
      "Milage of the car : 15\n",
      "Maximum Speed of the car : 150\n",
      "Seat Capacity of the car : None\n"
     ]
    }
   ],
   "source": [
    "marutiCar.displayProperties()"
   ]
  },
  {
   "cell_type": "code",
   "execution_count": 34,
   "id": "51d00c2f-e4f3-47b5-b543-9cb335fc8534",
   "metadata": {},
   "outputs": [
    {
     "ename": "TypeError",
     "evalue": "Car.__init__() takes from 1 to 3 positional arguments but 4 were given",
     "output_type": "error",
     "traceback": [
      "\u001b[31m---------------------------------------------------------------------------\u001b[39m",
      "\u001b[31mTypeError\u001b[39m                                 Traceback (most recent call last)",
      "\u001b[36mCell\u001b[39m\u001b[36m \u001b[39m\u001b[32mIn[34]\u001b[39m\u001b[32m, line 2\u001b[39m\n\u001b[32m      1\u001b[39m \u001b[38;5;66;03m# Task 5\u001b[39;00m\n\u001b[32m----> \u001b[39m\u001b[32m2\u001b[39m car1 = \u001b[43mCar\u001b[49m\u001b[43m(\u001b[49m\u001b[32;43m200\u001b[39;49m\u001b[43m,\u001b[49m\u001b[32;43m20\u001b[39;49m\u001b[43m,\u001b[49m\u001b[32;43m5\u001b[39;49m\u001b[43m)\u001b[49m\n\u001b[32m      3\u001b[39m car2 = Car(\u001b[32m180\u001b[39m,\u001b[32m25\u001b[39m,\u001b[32m4\u001b[39m)\n",
      "\u001b[31mTypeError\u001b[39m: Car.__init__() takes from 1 to 3 positional arguments but 4 were given"
     ]
    }
   ],
   "source": [
    "# Task 5\n",
    "car1 = Car(200,20)\n",
    "car1.seatingCapacity(5)\n",
    "print(\"CAR 1 DISPLAY PROPERTIES\")\n",
    "car1.displayProperties()\n",
    "\n",
    "print()\n",
    "print()\n",
    "print()\n",
    "\n",
    "car2 = Car(180,25)\n",
    "car2.seatingCapacity(4)\n",
    "car2.displayProperties()"
   ]
  },
  {
   "cell_type": "code",
   "execution_count": null,
   "id": "d2fd0f0c-d4d0-4019-9108-4d7f96ff5d0f",
   "metadata": {},
   "outputs": [],
   "source": []
  }
 ],
 "metadata": {
  "kernelspec": {
   "display_name": "Python 3 (ipykernel)",
   "language": "python",
   "name": "python3"
  },
  "language_info": {
   "codemirror_mode": {
    "name": "ipython",
    "version": 3
   },
   "file_extension": ".py",
   "mimetype": "text/x-python",
   "name": "python",
   "nbconvert_exporter": "python",
   "pygments_lexer": "ipython3",
   "version": "3.11.1"
  }
 },
 "nbformat": 4,
 "nbformat_minor": 5
}
