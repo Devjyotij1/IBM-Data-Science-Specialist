{
 "cells": [
  {
   "cell_type": "markdown",
   "id": "d0938c66-31cf-4a3d-80bd-f94a3a7abaf0",
   "metadata": {},
   "source": [
    "<center>\n",
    "\n",
    "# Part-A\n",
    "</center>"
   ]
  },
  {
   "cell_type": "markdown",
   "id": "b80393cb-17eb-4542-adb1-1b1bab29b5a5",
   "metadata": {},
   "source": [
    "<center>\n",
    "\n",
    "##### Note: In Part-A, you would not be getting any output as you are just storing the string and creating a class.\n",
    "</center>"
   ]
  },
  {
   "cell_type": "markdown",
   "id": "6b97522e-f969-4e8c-9c94-13639724ccfe",
   "metadata": {},
   "source": [
    "- Step 1: Define a string (Done)\n",
    "- Step 2: Define the class and its attributes (Done)\n",
    "- Step 3: Implement a code to format the text in lowercase (Done)\n",
    "  * Inside the constructor, convert the text argument to lowercase using the lower() method.\n",
    "  * Then, remove punctuation marks (periods, exclamation marks, commas, and question marks) from the text using - the replace() method.\n",
    "  * Finally, assign the formatted text to a new attribute called fmtText.\n",
    "- Step 4: Implement a code to count the frequency of all unique words (Done)\n",
    "  * In this step, you will implement the freqAll() method with the below parameters:\n",
    "    * Split the fmtText attribute into individual words using the split() method.\n",
    "    * Create an empty dictionary to store the word frequency.\n",
    "    * Iterate over the list of words and update the frequency dictionary accordingly.\n",
    "    * Use count method for counting the occurence.\n",
    "    * Return the frequency dictionary.\n",
    "- Step 5: Implement a code to count the frequency of a specific word (Done)\n",
    "  * In step-5, you have to implement the freqOf(word) method that takes a word argument:\n",
    "    * Create a method and pass the word that needs to be found.\n",
    "    * Get the freqAll method to look for count and check if that word is in the list.\n",
    "    * Return the count. If the word is not found, the count returned is 0."
   ]
  },
  {
   "cell_type": "code",
   "execution_count": 3,
   "id": "10ad44c9-8e6d-4832-84ca-e210a6eb83bc",
   "metadata": {},
   "outputs": [],
   "source": [
    "givenstring=\"Lorem ipsum dolor! diam amet, consetetur Lorem magna. sed diam nonumy eirmod tempor. diam et labore? et diam magna. et diam amet.\""
   ]
  },
  {
   "cell_type": "code",
   "execution_count": 11,
   "id": "333539e7-7be5-4ecb-ae1b-241d04404c42",
   "metadata": {},
   "outputs": [],
   "source": [
    "class TextAnalyzer(object) :\n",
    "\n",
    "    def __init__(self, text):\n",
    "        formatted_text = text.replace('!',\"\").replace('.','').replace('!','').replace('?','').replace(',','')\n",
    "        formatted_text = formatted_text.lower()\n",
    "\n",
    "        self.finalText = formatted_text\n",
    "        \n",
    "    def frequencyAll(self) :\n",
    "        all_words = self.finalText.split(\" \")\n",
    "        freqMapping = {}\n",
    "        for word in set(all_words) :\n",
    "            freqMapping[word] = all_words.count(word)\n",
    "        return freqMapping\n",
    "\n",
    "    def freqOfWord(self,word):\n",
    "        freqDict = self.frequencyAll()\n",
    "        if word in freqDict :\n",
    "            return freqDict[word]\n",
    "        else :\n",
    "            return 0\n",
    "        "
   ]
  },
  {
   "cell_type": "markdown",
   "id": "3f30886c-6194-4e62-889b-23ebb7e3f8ec",
   "metadata": {},
   "source": [
    "<center>\n",
    "\n",
    "# Part-B\n",
    "</center>"
   ]
  },
  {
   "cell_type": "markdown",
   "id": "ba58fcbf-cd03-41c0-96e3-3675d8dcbe76",
   "metadata": {},
   "source": [
    "<center>\n",
    "    \n",
    "**In Part B, you will call the functions created in Part A, allowing the functions to execute and generate output.**\n",
    "</center>"
   ]
  },
  {
   "cell_type": "markdown",
   "id": "a945d449-4667-4998-a9a0-43056d8348d7",
   "metadata": {},
   "source": [
    "- Step 1: Create an instance of TextAnalyzer class\n",
    "- Step 2: Call the function that converts the data into lowercase\n",
    "- Step 3: Call the function that counts the frequency of all unique words from the data\n",
    "- Step 4: Call the function that counts the frequency of a specific word"
   ]
  },
  {
   "cell_type": "code",
   "execution_count": 13,
   "id": "296c6313-c26d-4d3c-a6b2-ae28d9d9142a",
   "metadata": {},
   "outputs": [],
   "source": [
    "textAnalysis1 = TextAnalyzer(givenstring)"
   ]
  },
  {
   "cell_type": "code",
   "execution_count": 14,
   "id": "bdb1a1e9-431d-4f1a-9f73-02db1954c4fc",
   "metadata": {},
   "outputs": [
    {
     "name": "stdout",
     "output_type": "stream",
     "text": [
      "Formatted Text :  lorem ipsum dolor diam amet consetetur lorem magna sed diam nonumy eirmod tempor diam et labore et diam magna et diam amet\n"
     ]
    }
   ],
   "source": [
    "print(\"Formatted Text : \", textAnalysis1.finalText)"
   ]
  },
  {
   "cell_type": "code",
   "execution_count": 15,
   "id": "c19e9ab8-ca0b-4f55-aa74-c89ea5ebfafe",
   "metadata": {},
   "outputs": [
    {
     "data": {
      "text/plain": [
       "{'tempor': 1,\n",
       " 'magna': 2,\n",
       " 'eirmod': 1,\n",
       " 'nonumy': 1,\n",
       " 'amet': 2,\n",
       " 'consetetur': 1,\n",
       " 'et': 3,\n",
       " 'labore': 1,\n",
       " 'ipsum': 1,\n",
       " 'diam': 5,\n",
       " 'sed': 1,\n",
       " 'lorem': 2,\n",
       " 'dolor': 1}"
      ]
     },
     "execution_count": 15,
     "metadata": {},
     "output_type": "execute_result"
    }
   ],
   "source": [
    "textAnalysis1.frequencyAll()"
   ]
  },
  {
   "cell_type": "code",
   "execution_count": 17,
   "id": "fe29cad3-969f-445f-9e3e-9d6788d54c43",
   "metadata": {},
   "outputs": [
    {
     "data": {
      "text/plain": [
       "3"
      ]
     },
     "execution_count": 17,
     "metadata": {},
     "output_type": "execute_result"
    }
   ],
   "source": [
    "textAnalysis1.freqOfWord('et')"
   ]
  },
  {
   "cell_type": "code",
   "execution_count": null,
   "id": "60b202cb-11b3-41f6-ba7b-5cc8e36f9904",
   "metadata": {},
   "outputs": [],
   "source": []
  }
 ],
 "metadata": {
  "kernelspec": {
   "display_name": "Python 3 (ipykernel)",
   "language": "python",
   "name": "python3"
  },
  "language_info": {
   "codemirror_mode": {
    "name": "ipython",
    "version": 3
   },
   "file_extension": ".py",
   "mimetype": "text/x-python",
   "name": "python",
   "nbconvert_exporter": "python",
   "pygments_lexer": "ipython3",
   "version": "3.11.1"
  }
 },
 "nbformat": 4,
 "nbformat_minor": 5
}
