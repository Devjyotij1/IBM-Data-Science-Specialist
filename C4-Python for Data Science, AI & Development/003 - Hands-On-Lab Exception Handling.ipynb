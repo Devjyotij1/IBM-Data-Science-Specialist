{
 "cells": [
  {
   "cell_type": "markdown",
   "id": "1df02107-cd1e-4aee-96ca-925b8331784b",
   "metadata": {},
   "source": [
    "### Exercise 1: Handling ZeroDivisionError"
   ]
  },
  {
   "cell_type": "markdown",
   "id": "309006b4-5926-425d-b4eb-b5c9fd1a4f7b",
   "metadata": {},
   "source": [
    "##### Q1 :\n",
    "Imagine you have two numbers and want to determine what happens when you divide one number by the other. To do this, you need to create a Python function called safe_divide. You give this function two numbers, a 'numerator' and a 'denominator'. The 'numerator' is the number you want to divide, and the 'denominator' is the number you want to divide by. Use the user input method of Python to take the values.\n",
    "\n",
    "The function should be able to do the division for you and give you the result. But here's the catch: if you try to divide by zero (which is not allowed in math), the function should be smart enough to catch that and tell you that it's not possible to divide by zero. Instead of showing an error, it should return None, which means 'nothing' or 'no value', and print \"Error: Cannot divide by Zero."
   ]
  },
  {
   "cell_type": "markdown",
   "id": "c7d812b5-baeb-4ff6-b53b-69af3d4062c9",
   "metadata": {},
   "source": [
    "##### Solution :"
   ]
  },
  {
   "cell_type": "code",
   "execution_count": 7,
   "id": "905718ff-8a09-4f5a-90d1-7846412ea1e0",
   "metadata": {},
   "outputs": [
    {
     "name": "stdin",
     "output_type": "stream",
     "text": [
      "Enter the numerator : 100\n",
      "Enter the denominator : 50\n"
     ]
    },
    {
     "name": "stdout",
     "output_type": "stream",
     "text": [
      "100/50=2\n"
     ]
    }
   ],
   "source": [
    "def devide_nums(num1, num2) :\n",
    "    try :\n",
    "        return int(num1/num2)\n",
    "    except(ZeroDivisionError) :\n",
    "        return None\n",
    "\n",
    "num1 = input(\"Enter the numerator :\")\n",
    "num1 = int(num1)\n",
    "\n",
    "num2 = input(\"Enter the denominator :\")\n",
    "num2 = int(num2)\n",
    "\n",
    "result = devide_nums(num1, num2) \n",
    "\n",
    "if result == None :\n",
    "    print(\"Error: Cannot divide by Zero\")\n",
    "else :\n",
    "    print(f\"{num1}/{num2}={result}\")\n"
   ]
  },
  {
   "cell_type": "markdown",
   "id": "4b354bfc-acb2-4c0e-a25e-4358ee1c1eb2",
   "metadata": {},
   "source": [
    "### Exercise 2: Handling ValueError\n",
    "##### Q2 :\n",
    "Imagine you have a number and want to calculate its square root. To do this, you need to create a Python function. You give this function one number, 'number1'.\n",
    "\n",
    "The function should generate the square root value if you provide a positive integer or float value as input. However, the function should be clever enough to detect the mistake if you enter a negative value. It should kindly inform you with a message saying, 'Invalid input! Please enter a positive integer or a float value."
   ]
  },
  {
   "cell_type": "markdown",
   "id": "f9b1235f-8a72-4471-8a61-7fc38952a4a1",
   "metadata": {},
   "source": [
    "##### Solution :"
   ]
  },
  {
   "cell_type": "code",
   "execution_count": 19,
   "id": "f0d30300-0ff0-407f-9d34-d665ec658bbf",
   "metadata": {},
   "outputs": [
    {
     "name": "stdin",
     "output_type": "stream",
     "text": [
      "Enter the value to calculate square root :  12\n"
     ]
    },
    {
     "name": "stdout",
     "output_type": "stream",
     "text": [
      "Square root of 12.0 is 3.4641016151377544.\n"
     ]
    }
   ],
   "source": [
    "import math\n",
    "def safe_squareroot(num) :\n",
    "    try :\n",
    "        val = math.sqrt(num)\n",
    "        return val\n",
    "    except(ValueError) :\n",
    "        return None\n",
    "\n",
    "number = input(\"Enter the value to calculate square root : \")\n",
    "number = float(number)\n",
    "\n",
    "result = safe_squareroot(number)\n",
    "\n",
    "if result == None :\n",
    "    print(\"Invalid input! Please enter a positive integer or a float value.\")\n",
    "else :\n",
    "    print(f\"Square root of {number} is {result}.\")"
   ]
  },
  {
   "cell_type": "markdown",
   "id": "182fa252-2535-44f2-bb2c-3268b0b2202f",
   "metadata": {},
   "source": [
    "### Exercise 3: Handling Generic Exceptions\n",
    "##### Q3 :\n",
    "Imagine you have a number and want to perform a complex mathematical task. The calculation requires dividing the value of the input argument \"num\" by the difference between \"num\" and 5, and the result has to be stored in a variable called \"result\".\n",
    "\n",
    "You have to define a function so that it can perform that complex mathematical task. The function should handle any potential errors that occur during the calculation. To do this, you can use a try-except block. If any exception arises during the calculation, it should catch the error using the generic exception class \"Exception\" as \"e\". When an exception occurs, the function should display \"An error occurred during calculation."
   ]
  },
  {
   "cell_type": "markdown",
   "id": "acba02af-5d1b-4ace-80d6-261f5fac2295",
   "metadata": {},
   "source": [
    "##### Solution :"
   ]
  },
  {
   "cell_type": "code",
   "execution_count": 20,
   "id": "df0f4610-9561-45d5-94c2-063824df93be",
   "metadata": {},
   "outputs": [
    {
     "name": "stdin",
     "output_type": "stream",
     "text": [
      "Enter a number:  40\n"
     ]
    },
    {
     "name": "stdout",
     "output_type": "stream",
     "text": [
      "Result: 1.1428571428571428\n"
     ]
    }
   ],
   "source": [
    "def complex_calculation(num):\n",
    "    try:\n",
    "        result = num / (num - 5)\n",
    "        print (f\"Result: {result}\")\n",
    "    except Exception as e:\n",
    "        print(\"An error occurred during calculation.\")\n",
    "# Test case\n",
    "user_input = float(input(\"Enter a number: \"))\n",
    "complex_calculation(user_input)"
   ]
  },
  {
   "cell_type": "code",
   "execution_count": null,
   "id": "411d7243-a2ce-4437-bf91-2cd9860826b5",
   "metadata": {},
   "outputs": [],
   "source": []
  }
 ],
 "metadata": {
  "kernelspec": {
   "display_name": "Python 3 (ipykernel)",
   "language": "python",
   "name": "python3"
  },
  "language_info": {
   "codemirror_mode": {
    "name": "ipython",
    "version": 3
   },
   "file_extension": ".py",
   "mimetype": "text/x-python",
   "name": "python",
   "nbconvert_exporter": "python",
   "pygments_lexer": "ipython3",
   "version": "3.11.1"
  }
 },
 "nbformat": 4,
 "nbformat_minor": 5
}
