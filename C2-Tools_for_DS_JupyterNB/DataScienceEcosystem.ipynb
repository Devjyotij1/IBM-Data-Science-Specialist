{
 "cells": [
  {
   "cell_type": "markdown",
   "id": "30edffdf-c851-420c-b14a-5d4734f32caa",
   "metadata": {},
   "source": [
    "# Data Science Tools and Ecosystem"
   ]
  },
  {
   "cell_type": "markdown",
   "id": "10b2ec2d-0624-4d23-8182-072c41e8b3b9",
   "metadata": {},
   "source": [
    "#### In this notebook, Data Science Tools and Ecosystem are summarized."
   ]
  },
  {
   "cell_type": "markdown",
   "id": "cf4f6319-65f5-4ff8-95f8-1f2dbd6e112c",
   "metadata": {},
   "source": [
    "##### Some of the popular languages that Data Scientists use are:\n",
    "1. Python\n",
    "2. R\n",
    "3. Ruby\n"
   ]
  },
  {
   "cell_type": "markdown",
   "id": "77933c00-2f16-466c-8dad-9603a1154f64",
   "metadata": {},
   "source": [
    "##### Some of the commonly used libraries used by Data Scientists include:\n",
    "1. Numpy\n",
    "2. Pandas\n",
    "3. Matplotlib"
   ]
  },
  {
   "cell_type": "markdown",
   "id": "4a30095a-8852-4d2b-8739-984379a3c0b0",
   "metadata": {},
   "source": [
    "##### Some Data Science tools commonly used are :\n",
    "\n",
    "|Data Science Tools|\n",
    "|:----------------:|\n",
    "|Python|\n",
    "|R|\n",
    "|Tableau|\n",
    "|Power BI|"
   ]
  },
  {
   "cell_type": "markdown",
   "id": "3f6eb9fb-0e47-4fbf-a507-ec171ec79c1e",
   "metadata": {},
   "source": [
    "##### Below are a few examples of evaluating arithmetic expressions in Python.\n",
    "\n",
    "$x^2$\n",
    "\n",
    "$x+y$\n",
    "\n",
    "$x-y$\n",
    "\n",
    "$x*y$\n",
    "\n",
    "$x/y$\n",
    "\n"
   ]
  },
  {
   "cell_type": "code",
   "execution_count": 2,
   "id": "6814d2e3-97b8-477f-bcf1-51ec0baff83a",
   "metadata": {},
   "outputs": [
    {
     "data": {
      "text/plain": [
       "17"
      ]
     },
     "execution_count": 2,
     "metadata": {},
     "output_type": "execute_result"
    }
   ],
   "source": [
    "# This a simple arithmetic expression to mutiply then add integers\n",
    "\n",
    "(3*4)+5"
   ]
  },
  {
   "cell_type": "code",
   "execution_count": 3,
   "id": "e68213ea-f59b-4c94-b0f0-468615612ac2",
   "metadata": {},
   "outputs": [
    {
     "name": "stdout",
     "output_type": "stream",
     "text": [
      "3.3333333333333335\n"
     ]
    }
   ],
   "source": [
    "# This will convert 200 minutes to hours by diving by 60\n",
    "\n",
    "minutes = 200\n",
    "hours = minutes / 60\n",
    "print(hours)"
   ]
  },
  {
   "cell_type": "markdown",
   "id": "98be662b-54e3-4042-bb81-85e40d85632c",
   "metadata": {},
   "source": [
    "# Objective of this notebook\n",
    "\n",
    "* Learn how to use Markdown\n",
    "* How to format Markdown\n",
    "* How to use Jupyter Notebook\n",
    "* List of popular languages of datascience\n",
    "* List of popular tools of datascience"
   ]
  },
  {
   "cell_type": "markdown",
   "id": "cfc607c6-43d6-4683-a5a6-e258cf7d1424",
   "metadata": {},
   "source": [
    "### Author\n",
    "Devjyoti Jana"
   ]
  },
  {
   "cell_type": "code",
   "execution_count": null,
   "id": "77580e4d-2480-43bb-8454-eb0010512f6b",
   "metadata": {},
   "outputs": [],
   "source": []
  }
 ],
 "metadata": {
  "kernelspec": {
   "display_name": "Python 3 (ipykernel)",
   "language": "python",
   "name": "python3"
  },
  "language_info": {
   "codemirror_mode": {
    "name": "ipython",
    "version": 3
   },
   "file_extension": ".py",
   "mimetype": "text/x-python",
   "name": "python",
   "nbconvert_exporter": "python",
   "pygments_lexer": "ipython3",
   "version": "3.12.7"
  }
 },
 "nbformat": 4,
 "nbformat_minor": 5
}
